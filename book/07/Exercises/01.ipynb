{
 "cells": [
  {
   "attachments": {},
   "cell_type": "markdown",
   "metadata": {},
   "source": [
    "<figure>\n",
    "  <IMG SRC=\"https://raw.githubusercontent.com/mbakker7/exploratory_computing_with_python/master/tudelft_logo.png\" WIDTH=250 ALIGN=\"right\">\n",
    "</figure>\n",
    "\n",
    "# Matplotlib Exercises\n",
    "\n",
    "First click the {fa}`rocket` --> {guilabel}`Live Code` button above on this page to bring interactivity.\n",
    "\n",
    "## Histogram of mountain heights "
   ]
  },
  {
   "attachments": {},
   "cell_type": "markdown",
   "metadata": {},
   "source": [
    "Your task is to reproduce the plot shown below using the dataset with all mountains above meters, `mountains_above_7000m.csv` file. The characteristics of the plot are the following: \n",
    "\n",
    "* 15 bins histogram of mountain heights in metres\n",
    "* minimum and maximum values placed in text box\n",
    "* vertical red line representing the median value\n",
    "* title font size = 16\n",
    "* x and y labels font size = 14\n",
    "* legend font size = 10\n",
    "* dashed grid placed behind the histogram\n",
    "\n",
    "<p><img src=\"01.png\" alt=\"\" style=\"display: block; margin-left: auto; margin-right: auto;\" width=\"450\" height=\"350\" /></p>\n",
    "\n"
   ]
  },
  {
   "attachments": {},
   "cell_type": "markdown",
   "metadata": {},
   "source": [
    "`````{admonition} Toolbox\n",
    ":class: tip\n",
    "Here are your tools to solve this exercise:\n",
    "\n",
    "* Define the input variable.\n",
    "* Get the maxim, min and median values of the input variable.\n",
    "* The vertical line can be plotted using `matplotlib.pyplot.vlines`\n",
    "* The min an max values can be plotted using `matplotlib.pyplot.text`\n",
    "\n",
    "You can use the following `matplotlib.pyplot` functions (but not limited to): \n",
    "``plt.figure()``, ``plt.ylim()``, ``plt.title()``,``plt.legend()``,``plt.rc()``\n",
    "\n",
    "More information: \n",
    "* https://matplotlib.org/stable/api/_as_gen/matplotlib.pyplot.hist.html\n",
    "* https://matplotlib.org/stable/api/_as_gen/matplotlib.pyplot.vlines.html\n",
    "* https://matplotlib.org/stable/api/_as_gen/matplotlib.pyplot.text.html\n",
    "\n",
    "`````"
   ]
  },
  {
   "attachments": {},
   "cell_type": "markdown",
   "metadata": {},
   "source": [
    "Write your code in the cell below. "
   ]
  },
  {
   "cell_type": "code",
   "execution_count": null,
   "metadata": {},
   "outputs": [],
   "source": [
    "import pandas as pd\n",
    "import matplotlib.pyplot as plt\n",
    "\n",
    "file_location = (\"https://raw.githubusercontent.com/TUDelft-CITG/\"\n",
    "                \"learn-python/mike/book/06/Exercises/\")\n",
    "mountains_7000 = ...\n"
   ]
  },
  {
   "attachments": {},
   "cell_type": "markdown",
   "metadata": {},
   "source": [
    "## Bar plot of number of mountains per country\n",
    "Your task is to reproduce the plot shown below using the dataset with all mountains above 7000 meters, `mountains_above_7000m.csv` file. The characteristics of the plot are the following: \n",
    "\n",
    "* Bar plot representing the number of  mountains above 7000 meters per country\n",
    "* The countries to be included are: Bhutan, China, India and Pakistan\n",
    "* The color _hex color codes_ that represent each country are : #f1eef6, #bdc9e1, #74a9cf and #2b8cbe\n",
    "* title font size = 14\n",
    "* x and y labels font size = 12\n",
    "\n",
    "<p><img src=\"02.png\" alt=\"\" style=\"display: block; margin-left: auto; margin-right: auto;\" width=\"350\" height=\"300\" /></p>\n"
   ]
  },
  {
   "attachments": {},
   "cell_type": "markdown",
   "metadata": {},
   "source": [
    "`````{admonition} Toolbox\n",
    ":class: tip\n",
    "Here are your tools to solve this exercise:\n",
    "\n",
    "* Define a list of the countries of interest.\n",
    "* Compute the number of mountains per country (see Exercise 6.5.3 for example).\n",
    "* Define a list of the given hex color codes.\n",
    "* The bar plot can be plotted using `matplotlib.pyplot.bar`\n",
    "* Use a for loop to place text representing the number of mountains above each bar\n",
    "\n",
    "You can use the following `matplotlib.pyplot` functions (but not limited to): \n",
    "``plt.figure()``, ``plt.ylim()``, ``plt.xlabel()``,``plt.ylabel()``\n",
    "\n",
    "More information: \n",
    "* https://matplotlib.org/stable/api/_as_gen/matplotlib.pyplot.bar.html\n",
    "* https://matplotlib.org/stable/api/_as_gen/matplotlib.pyplot.text.html\n",
    "\n",
    "`````"
   ]
  },
  {
   "attachments": {},
   "cell_type": "markdown",
   "metadata": {},
   "source": [
    "Write your code in the cell below. "
   ]
  },
  {
   "cell_type": "code",
   "execution_count": null,
   "metadata": {},
   "outputs": [],
   "source": [
    "import pandas as pd\n",
    "import matplotlib.pyplot as plt\n",
    "\n",
    "file_location = (\"https://raw.githubusercontent.com/TUDelft-CITG/\"\n",
    "                \"learn-python/mike/book/06/Exercises/\")\n",
    "mountains_7000 = ...\n"
   ]
  },
  {
   "attachments": {},
   "cell_type": "markdown",
   "metadata": {},
   "source": [
    "\n",
    "## Plot of two variables \n",
    "Your task is to reproduce the scatterplot with marginal histograms shown below using the  sample of 100 vehicles corresponding to the 3-axle vehicle type 3C located in the file `02_01.csv`. The characteristics of the plot are the following: \n",
    "* For this task you will use different Python data visualization library called [seaborn](https://seaborn.pydata.org/index.html)\n",
    "* Scatter plot with marginal histograms representing the Axle 1 and Axle 2 measurements\n",
    "* x and y labels font size = 14\n",
    "\n",
    "<p><img src=\"03.png\" alt=\"\" style=\"display: block; margin-left: auto; margin-right: auto;\" width=\"400\" height=\"400\" /></p>\n"
   ]
  },
  {
   "attachments": {},
   "cell_type": "markdown",
   "metadata": {},
   "source": [
    "`````{admonition} Toolbox\n",
    ":class: tip\n",
    "Here are your tools to solve this exercise:\n",
    "\n",
    "* Get the variables of interest (Axle 1 and Axle 2).\n",
    "* The scatter plot with marginal histograms can be plotted using `seaborn.jointplot`\n",
    "\n",
    "More information: \n",
    "* https://seaborn.pydata.org/generated/seaborn.jointplot.html\n",
    "\n",
    "`````"
   ]
  },
  {
   "attachments": {},
   "cell_type": "markdown",
   "metadata": {},
   "source": [
    "Write your code in the cell below. "
   ]
  },
  {
   "cell_type": "code",
   "execution_count": null,
   "metadata": {},
   "outputs": [],
   "source": [
    "import seaborn as sns\n",
    "\n",
    "file_location = (\"https://raw.githubusercontent.com/TUDelft-CITG/\"\n",
    "                    \"learn-python/mike/book/05/Exercises/\")\n",
    "\n",
    "dataset = ...\n"
   ]
  }
 ],
 "metadata": {
  "kernelspec": {
   "display_name": "base",
   "language": "python",
   "name": "python3"
  },
  "language_info": {
   "codemirror_mode": {
    "name": "ipython",
    "version": 3
   },
   "file_extension": ".py",
   "mimetype": "text/x-python",
   "name": "python",
   "nbconvert_exporter": "python",
   "pygments_lexer": "ipython3",
   "version": "3.8.13"
  },
  "orig_nbformat": 4
 },
 "nbformat": 4,
 "nbformat_minor": 2
}
