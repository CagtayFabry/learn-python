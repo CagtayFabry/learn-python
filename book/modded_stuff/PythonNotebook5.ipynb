{
 "cells": [
  {
   "cell_type": "markdown",
   "metadata": {
    "nbgrader": {
     "grade": false,
     "locked": true,
     "solution": false
    }
   },
   "source": [
    "<figure>\n",
    "  <IMG SRC=\"https://raw.githubusercontent.com/mbakker7/exploratory_computing_with_python/master/tudelft_logo.png\" WIDTH=250 ALIGN=\"right\">\n",
    "</figure>\n",
    "\n",
    "# Python Notebook #5\n",
    "\n",
    "\n",
    "# Numpy"
   ]
  },
  {
   "cell_type": "markdown",
   "metadata": {
    "nbgrader": {
     "grade": false,
     "locked": true,
     "solution": false
    }
   },
   "source": [
    "The <b><code>numpy</code></b> package is one of the main packages when it comes to working with arrays and matrices in Python, making it indispensable to process and visualize scientific data. Its assortment of routines facilitates operations such as mathematical, logical, linear algebra, Fourier transforms, and much more. In this section, you will learn some of the most used <b><code>numpy</code></b> functions to work with multidimensional array objects.\n",
    "\n",
    "***"
   ]
  },
  {
   "cell_type": "code",
   "execution_count": 1,
   "metadata": {
    "collapsed": true,
    "nbgrader": {
     "grade": false,
     "locked": true,
     "solution": false
    }
   },
   "outputs": [],
   "source": [
    "# as always, let's import the package we will use\n",
    "import numpy as np"
   ]
  },
  {
   "cell_type": "markdown",
   "metadata": {
    "nbgrader": {
     "grade": false,
     "locked": true,
     "solution": false
    }
   },
   "source": [
    "***\n",
    "The following functions will be discussed in this Notebook:\n",
    "- <b><code>np.array()</code></b> \n",
    "- <b><code>np.zeros()</code></b> \n",
    "- <b><code>np.asarray()</code></b> \n",
    "- <b><code>np.shape()</code></b>\n",
    "- <b><code>np.min()</code></b>\n",
    "- <b><code>np.max()</code></b>\n",
    "- <b><code>np.mean()</code></b>\n",
    "- <b><code>np.sort()</code></b>\n",
    "- <b><code>np.linspace()</code></b>\n",
    "- <b><code>np.arange()</code></b>\n",
    "- <b><code>np.argmax()</code></b>\n",
    "- <b><code>np.argmin()</code></b>\n",
    "- <b><code>np.where()</code></b>\n",
    "- <b><code>np.astype()</code></b>\n",
    "- <b><code>np.dot()</code></b>\n",
    "- <b><code>np.transpose()</code></b>\n",
    "- <b><code>np.loadtxt()</code></b>\n",
    "- <b><code>np.sum()</code></b>\n",
    "- <b><code>np.cos()</code></b>\n",
    "- <b><code>np.sin()</code></b>\n",
    "- <b><code>np.sqrt()</code></b>\n"
   ]
  },
  {
   "cell_type": "markdown",
   "metadata": {
    "nbgrader": {
     "grade": false,
     "locked": true,
     "solution": false
    }
   },
   "source": [
    "In Section 2.3, of Notebook 2, you have already encountered lists, which are created with square brackets <b><code>[]</code></b>. Arrays are the <b><code>numpy</code></b> equivalent of lists, with a few characteristic traits:<br><br>- <b><code>numpy</code></b> arrays can only store one type of element,<br>- <b><code>numpy</code></b> arrays take up much less memory than lists,<br>- <b><code>numpy</code></b> arrays have a much better runtime behavior,<br>- it is easier to work with multi-dimensional <b><code>numpy</code></b> arrays than with multi-dimensional lists<br><br>"
   ]
  },
  {
   "cell_type": "markdown",
   "metadata": {},
   "source": [
    "## 1-Dimensional arrays"
   ]
  },
  {
   "cell_type": "markdown",
   "metadata": {},
   "source": [
    "### ``np.array()``, ``np.asarray()``\n",
    "So, how do you create a <b><code>numpy</code></b> 1-Dimensional (1D) array? There are a few ways to do it..."
   ]
  },
  {
   "cell_type": "markdown",
   "metadata": {},
   "source": [
    "* Option 1 - from scratch with ``np.array()``"
   ]
  },
  {
   "cell_type": "code",
   "execution_count": 10,
   "metadata": {
    "collapsed": true,
    "nbgrader": {
     "grade": false,
     "locked": true,
     "solution": false
    }
   },
   "outputs": [
    {
     "name": "stdout",
     "output_type": "stream",
     "text": [
      "arr1 = [1 2 3], its type is <class 'numpy.ndarray'>\n"
     ]
    }
   ],
   "source": [
    "# similar to a list\n",
    "arr1 = np.array([1,2,3])\n",
    "\n",
    "# Let's check its contents and type\n",
    "print('arr1 = {}, its type is {}'.format(arr1,type(arr1)))"
   ]
  },
  {
   "cell_type": "markdown",
   "metadata": {},
   "source": [
    "* Option 2 - from an existing list with ``np.array()``"
   ]
  },
  {
   "cell_type": "code",
   "execution_count": 4,
   "metadata": {
    "collapsed": true,
    "nbgrader": {
     "grade": false,
     "locked": true,
     "solution": false
    }
   },
   "outputs": [
    {
     "name": "stdout",
     "output_type": "stream",
     "text": [
      "L_1 = [1, 2, 3, 5, 7, 11, 13] and its type is <class 'list'>\n",
      "\n",
      "A_1 = [ 1  2  3  5  7 11 13] and its type is <class 'numpy.ndarray'>\n"
     ]
    }
   ],
   "source": [
    "# create the list first and check its type\n",
    "L_1 = [1,2,3,5,7,11,13]\n",
    "print('L_1 = {} and its type is {}\\n'.format(L_1,type(L_1)))\n",
    "\n",
    "# create the array A_1 from the list L_1\n",
    "# and check its type\n",
    "A_1 = np.array(L_1)\n",
    "print('A_1 = {} and its type is {}'.format(A_1, type(A_1)))"
   ]
  },
  {
   "cell_type": "markdown",
   "metadata": {},
   "source": [
    "* Option 3 - from an existing list with ``np.asarray()``"
   ]
  },
  {
   "cell_type": "code",
   "execution_count": 5,
   "metadata": {
    "collapsed": true,
    "nbgrader": {
     "grade": false,
     "locked": true,
     "solution": false
    }
   },
   "outputs": [
    {
     "name": "stdout",
     "output_type": "stream",
     "text": [
      "L_1 = [1, 2, 3, 5, 7, 11, 13] and its type is <class 'list'>\n",
      "\n",
      "A_1 = [ 1  2  3  5  7 11 13] and its type is <class 'numpy.ndarray'>\n"
     ]
    }
   ],
   "source": [
    "# create the list first and check its type\n",
    "L_1 = [1,2,3,5,7,11,13]\n",
    "print('L_1 = {} and its type is {}\\n'.format(L_1,type(L_1)))\n",
    "\n",
    "# create the array A_1 from the list L_1\n",
    "# and check its type\n",
    "A_1 = np.asarray(L_1)\n",
    "print('A_1 = {} and its type is {}'.format(A_1, type(A_1)))"
   ]
  },
  {
   "cell_type": "markdown",
   "metadata": {
    "nbgrader": {
     "grade": false,
     "locked": true,
     "solution": false
    }
   },
   "source": [
    "From the above examples, you can't really determine the difference between using <b><code>np.array()</code></b> or <b><code>np.asarray()</code></b>. Nonetheless, there is a very important one, similar to the <b><code>=</code></b> and <b><code>copy</code></b> conundrum discussed in Notebook 4. When generating an array from a list, both functions do pretty much the same. However, when generating an array from another array, their differences stand out."
   ]
  },
  {
   "cell_type": "code",
   "execution_count": 6,
   "metadata": {
    "collapsed": true,
    "nbgrader": {
     "grade": false,
     "locked": true,
     "solution": false
    }
   },
   "outputs": [
    {
     "name": "stdout",
     "output_type": "stream",
     "text": [
      "arr1 ID is 3116429230896\n"
     ]
    }
   ],
   "source": [
    "# First, let's check the ID of arr1\n",
    "print('arr1 ID is {}'.format(id(arr1)))"
   ]
  },
  {
   "cell_type": "code",
   "execution_count": 12,
   "metadata": {
    "collapsed": true,
    "nbgrader": {
     "grade": false,
     "locked": true,
     "solution": false
    }
   },
   "outputs": [
    {
     "name": "stdout",
     "output_type": "stream",
     "text": [
      "arr_array = [100   2   3] and its ID is 3116697984144\n",
      "\n",
      "arr_asarray = [100   2   3] and its ID is 3116429231184\n"
     ]
    }
   ],
   "source": [
    "# Now, let's make two new arrays from arr1, using both functions\n",
    "arr_array = np.array(arr1)\n",
    "arr_asarray = np.asarray(arr1)\n",
    "\n",
    "print('arr_array = {} and its ID is {}\\n'.format(arr_array,id(arr_array)))\n",
    "print('arr_asarray = {} and its ID is {}'.format(arr_asarray, id(arr_asarray)))"
   ]
  },
  {
   "cell_type": "markdown",
   "metadata": {
    "nbgrader": {
     "grade": false,
     "locked": true,
     "solution": false
    }
   },
   "source": [
    "Hmm... it seems that the ID of <b><code>arr_asarray</code></b> is the same as the original <b><code>arr1</code></b>. Which means they are the same variable! Altering one will alter the other one as well. Let's try it out."
   ]
  },
  {
   "cell_type": "code",
   "execution_count": 13,
   "metadata": {
    "collapsed": true,
    "nbgrader": {
     "grade": false,
     "locked": true,
     "solution": false
    }
   },
   "outputs": [
    {
     "ename": "ValueError",
     "evalue": "invalid literal for int() with base 10: 'hello'",
     "output_type": "error",
     "traceback": [
      "\u001b[1;31m---------------------------------------------------------------------------\u001b[0m",
      "\u001b[1;31mValueError\u001b[0m                                Traceback (most recent call last)",
      "Cell \u001b[1;32mIn[13], line 1\u001b[0m\n\u001b[1;32m----> 1\u001b[0m arr1[\u001b[39m0\u001b[39m] \u001b[39m=\u001b[39m \u001b[39m'\u001b[39m\u001b[39mhello\u001b[39m\u001b[39m'\u001b[39m\n\u001b[0;32m      2\u001b[0m \u001b[39mprint\u001b[39m(arr_asarray)\n",
      "\u001b[1;31mValueError\u001b[0m: invalid literal for int() with base 10: 'hello'"
     ]
    }
   ],
   "source": [
    "arr1[0] = 'hello'\n",
    "print(arr_asarray)"
   ]
  },
  {
   "cell_type": "markdown",
   "metadata": {
    "nbgrader": {
     "grade": false,
     "locked": true,
     "solution": false
    }
   },
   "source": [
    "Oops... it didn't work. Why do you think it didn't work?"
   ]
  },
  {
   "cell_type": "markdown",
   "metadata": {},
   "source": [
    "<b>Answer</b>: . . ."
   ]
  },
  {
   "cell_type": "code",
   "execution_count": 14,
   "metadata": {
    "collapsed": true,
    "nbgrader": {
     "grade": false,
     "locked": true,
     "solution": false
    }
   },
   "outputs": [
    {
     "name": "stdout",
     "output_type": "stream",
     "text": [
      "arr1 = [100   2   3]\n",
      "\n",
      "arr_array = [100   2   3]\n",
      "\n",
      "arr_asarray = [100   2   3]\n"
     ]
    }
   ],
   "source": [
    "# Change the first element of arr1\n",
    "arr1[0] = 100\n",
    "# Print arr_array and arr_asarray to see if the first element changed\n",
    "print('arr1 = {}\\n'.format(arr1))\n",
    "print('arr_array = {}\\n'.format(arr_array))\n",
    "print('arr_asarray = {}'.format(arr_asarray))"
   ]
  },
  {
   "cell_type": "markdown",
   "metadata": {
    "nbgrader": {
     "grade": false,
     "locked": true,
     "solution": false
    }
   },
   "source": [
    "Yep, our theory was right: <b><code>arr1</code></b> and <b><code>arr_asarray</code></b> are indeed the same (but <b><code>arr_array</code></b> is not!). Therefore, altering <b><code>arr1[0]</code></b> will alter <b><code>arr_asarray[0]</code></b> in the same way."
   ]
  },
  {
   "cell_type": "code",
   "execution_count": 15,
   "metadata": {
    "collapsed": true,
    "nbgrader": {
     "grade": false,
     "locked": true,
     "solution": false
    }
   },
   "outputs": [
    {
     "name": "stdout",
     "output_type": "stream",
     "text": [
      "True\n"
     ]
    }
   ],
   "source": [
    "# final check that they are indeed the same\n",
    "print(arr1 is arr_asarray)"
   ]
  },
  {
   "cell_type": "markdown",
   "metadata": {
    "nbgrader": {
     "grade": false,
     "locked": true,
     "solution": false
    }
   },
   "source": [
    "### ``np.zeros()``\n",
    "In case you already know the size of the array you will need, it is common to initialize it with zeros first using the <code>np.zeros()</code> function, as shown below."
   ]
  },
  {
   "cell_type": "code",
   "execution_count": 21,
   "metadata": {
    "tags": [
     "hide-input"
    ]
   },
   "outputs": [],
   "source": [
    "np.set_printoptions(threshold=1) # ignore this line\n",
    "# its purpose is to set a limit when printing the huge arrays we will generate"
   ]
  },
  {
   "cell_type": "code",
   "execution_count": 18,
   "metadata": {
    "collapsed": true,
    "nbgrader": {
     "grade": false,
     "locked": true,
     "solution": false
    }
   },
   "outputs": [
    {
     "name": "stdout",
     "output_type": "stream",
     "text": [
      "my_arr with a bunch of zeros \n",
      "[0. 0. 0. ... 0. 0. 0.]\n",
      "\n",
      "#######################\n",
      "\n",
      "my_arr with random numbers \n",
      "[1. 0. 9. ... 7. 2. 4.]\n"
     ]
    }
   ],
   "source": [
    "# eg: I know I will need an array with 100000 elements\n",
    "# so I create it full of zeros first\n",
    "my_arr = np.zeros(100000)\n",
    "print('my_arr with a bunch of zeros \\n{}\\n'.format(my_arr))\n",
    "print('#######################')\n",
    "\n",
    "# then, I assign the values I need to each element..\n",
    "# here, in this example, I only wrote a for loop to assign random\n",
    "# integer numbers between 0 and 9 to it\n",
    "\n",
    "import random\n",
    "\n",
    "for i in range(len(my_arr)): # note the use of range(len(my_arr)), we use this often to specify the range\n",
    "                             # of the for loop to be of the same size as some array\n",
    "    my_arr[i] = random.randint(0,9)\n",
    "    \n",
    "print('\\nmy_arr with random numbers \\n{}'.format(my_arr))\n"
   ]
  },
  {
   "cell_type": "markdown",
   "metadata": {
    "nbgrader": {
     "grade": false,
     "locked": true,
     "solution": false
    }
   },
   "source": [
    "Note that these arrays still have $100000$ elements, but due to our first line of code we truncated the print function to not print it completely — otherwise you would have to scroll a lot. :P "
   ]
  },
  {
   "cell_type": "markdown",
   "metadata": {
    "nbgrader": {
     "grade": false,
     "locked": true,
     "solution": false
    }
   },
   "source": [
    "### ``np.min()``, ``np.max()`` and ``np.mean()``\n",
    "\n",
    "Numpy also provides various packages to help you process your data. You can, for instance, find out what is the minimum value of an array, or its mean. Your task is to find the minimum, maximum, and mean values of an array."
   ]
  },
  {
   "cell_type": "code",
   "execution_count": 26,
   "metadata": {},
   "outputs": [
    {
     "name": "stdout",
     "output_type": "stream",
     "text": [
      "The minimum value of A_1 is 1 \n",
      "\n",
      "The maximum value of A_1 is 13 \n",
      "\n",
      "The mean value of A_1 is 6.0 \n",
      "\n"
     ]
    }
   ],
   "source": [
    "#Find the minimum, maximum and mean values of A_1\n",
    "A_1_min = np.min(A_1)\n",
    "A_1_max = np.max(A_1)\n",
    "A_1_mean = np.mean(A_1)\n",
    "\n",
    "# Print your results..\n",
    "print(f'The minimum value of A_1 is {A_1_min} \\n')\n",
    "print(f'The maximum value of A_1 is {A_1_max} \\n')\n",
    "print(f'The mean value of A_1 is {A_1_mean} \\n')\n"
   ]
  },
  {
   "cell_type": "markdown",
   "metadata": {},
   "source": [
    "### ``np.arange()``\n",
    "\n",
    "Another useful function of the <b><code>numpy</code></b> module is <b><code>np.arange()</code></b>. First, let's see in the documentation what it does."
   ]
  },
  {
   "cell_type": "markdown",
   "metadata": {},
   "source": [
    "It reads:<br><br><i><code>arange([start,] stop[, step,], dtype=None, *, like=None)<br><br>Return evenly spaced values within a given interval.</code></i><br><br>To make a number range you need to choose: <br>1) the starting point,<br>2) the endpoint,<br>3) the interval between each point<br><br>The reason why it reads <b><code>[start,] stop[, step,]</code></b> with square brackets, is that the <b><code>start</code></b> and the <b><code>step</code></b> can be omitted. If not specified, <b><code>start = 0</code></b> and <b><code>step = 1</code></b>, by default."
   ]
  },
  {
   "cell_type": "markdown",
   "metadata": {},
   "source": [
    "::: {warning}\n",
    "Your endpoint is <b>not</b> included in the array. If you want to include the endpoint in the array, you have to specify the stop to be <b>endpoint + step</b>. This will be clearer in the following examples.\n",
    ":::"
   ]
  },
  {
   "cell_type": "code",
   "execution_count": null,
   "metadata": {},
   "outputs": [
    {
     "name": "stdout",
     "output_type": "stream",
     "text": [
      "arr = [0 1 2 3 4]\n"
     ]
    }
   ],
   "source": [
    "arr = np.arange(5) #omitted start and step\n",
    "print('arr =', arr)"
   ]
  },
  {
   "cell_type": "markdown",
   "metadata": {},
   "source": [
    "As mentioned, the endpoint (5) is omitted. If you would like to include it:"
   ]
  },
  {
   "cell_type": "code",
   "execution_count": null,
   "metadata": {},
   "outputs": [
    {
     "name": "stdout",
     "output_type": "stream",
     "text": [
      "arr = [0 1 2 3 4 5]\n"
     ]
    }
   ],
   "source": [
    "arr = np.arange(5 + 1)\n",
    "print('arr =', arr)"
   ]
  },
  {
   "cell_type": "markdown",
   "metadata": {},
   "source": [
    "Now, without omiting `start` nor `step`."
   ]
  },
  {
   "cell_type": "code",
   "execution_count": null,
   "metadata": {},
   "outputs": [
    {
     "name": "stdout",
     "output_type": "stream",
     "text": [
      "arr = [1.   1.01 1.02 ... 1.97 1.98 1.99]\n"
     ]
    }
   ],
   "source": [
    "arr = np.arange(1, 2, 0.01) # without endpoint\n",
    "print('arr =', arr)"
   ]
  },
  {
   "cell_type": "code",
   "execution_count": null,
   "metadata": {},
   "outputs": [
    {
     "name": "stdout",
     "output_type": "stream",
     "text": [
      "arr = [1.   1.01 1.02 ... 1.98 1.99 2.  ]\n"
     ]
    }
   ],
   "source": [
    "arr = np.arange(1, 2 + 0.01, 0.01) # including endpoint\n",
    "print('arr =', arr)"
   ]
  },
  {
   "cell_type": "markdown",
   "metadata": {},
   "source": [
    "You can also generate a descending array, by using negative steps"
   ]
  },
  {
   "cell_type": "code",
   "execution_count": null,
   "metadata": {},
   "outputs": [
    {
     "name": "stdout",
     "output_type": "stream",
     "text": [
      "arr = [10  9  8 ...  3  2  1]\n"
     ]
    }
   ],
   "source": [
    "arr = np.arange(10,0,-1)\n",
    "print('arr =', arr)"
   ]
  },
  {
   "cell_type": "markdown",
   "metadata": {},
   "source": [
    "### ``np.sort()``\n",
    "\n",
    "You can also sort an array in the crescent order using <b><code>np.sort()</code></b>"
   ]
  },
  {
   "cell_type": "code",
   "execution_count": null,
   "metadata": {},
   "outputs": [
    {
     "name": "stdout",
     "output_type": "stream",
     "text": [
      "sorted_arr = [ 1  2  3 ...  8  9 10]\n"
     ]
    }
   ],
   "source": [
    "sorted_arr = np.sort(arr)\n",
    "print('sorted_arr =', sorted_arr)"
   ]
  },
  {
   "cell_type": "markdown",
   "metadata": {},
   "source": [
    "### Exercise 5.1.5\n",
    "\n",
    "Search the functionalities of the <code>np.linspace()</code> function, and generate an array that starts in $-6$, ends in $18$, and has a step of $0.2$."
   ]
  },
  {
   "cell_type": "code",
   "execution_count": 55,
   "metadata": {},
   "outputs": [],
   "source": [
    "'''write your code on the dots, DO NOT CHANGE THE NAME OF THE VARIABLES!'''\n",
    "\n",
    "linspace_range = ...\n",
    "\n",
    "###BEGIN SOLUTION TEMPLATE=\n",
    "linspace_range = np.linspace(-6,18,121)\n",
    "###END SOLUTION\n"
   ]
  },
  {
   "cell_type": "code",
   "execution_count": 56,
   "metadata": {},
   "outputs": [],
   "source": [
    "###BEGIN HIDDEN TESTS\n",
    "assert np.sum(np.abs(linspace_range - np.linspace(-6,18,121))) <= 1e-6, '5.1.5 - Incorrect answer'\n",
    "###END HIDDEN TESTS"
   ]
  },
  {
   "cell_type": "markdown",
   "metadata": {},
   "source": [
    "### ``np.sum()``\n",
    "\n",
    "As the name clearly states, <b><code>np.sum()</code></b> returns the sum of an array. Let's try it out:"
   ]
  },
  {
   "cell_type": "code",
   "execution_count": 54,
   "metadata": {},
   "outputs": [
    {
     "name": "stdout",
     "output_type": "stream",
     "text": [
      "The sum of the array is 6\n"
     ]
    }
   ],
   "source": [
    "arr = ([1,2,3])\n",
    "my_sum = np.sum(arr)\n",
    "print(f'The sum of the array is {my_sum}')"
   ]
  },
  {
   "cell_type": "markdown",
   "metadata": {},
   "source": [
    "### Exercise 5.1.8\n",
    "\n",
    "Euler proposed that $\\pi$ can be approximated by: \n",
    "\n",
    "\\begin{equation}\n",
    "\\pi \\approx \\sqrt{6 \\sum_{k=1}^\\infty \\frac{1}{k^2}}\n",
    "\\end{equation}\n",
    "\n",
    "Since we do not have $\\infty$ in Python, let's assume the upper limit of the summation to be $1000$, instead of $\\infty$ Your task is to write a program that computes $\\pi$, using the above-proposed method, and prints the results with 5 decimal places. "
   ]
  },
  {
   "cell_type": "code",
   "execution_count": 57,
   "metadata": {},
   "outputs": [
    {
     "ename": "TypeError",
     "evalue": "unsupported operand type(s) for ** or pow(): 'ellipsis' and 'int'",
     "output_type": "error",
     "traceback": [
      "\u001b[1;31m---------------------------------------------------------------------------\u001b[0m",
      "\u001b[1;31mTypeError\u001b[0m                                 Traceback (most recent call last)",
      "Cell \u001b[1;32mIn[57], line 3\u001b[0m\n\u001b[0;32m      1\u001b[0m \u001b[39m# write your code here\u001b[39;00m\n\u001b[0;32m      2\u001b[0m k \u001b[39m=\u001b[39m \u001b[39m.\u001b[39m\u001b[39m.\u001b[39m\u001b[39m.\u001b[39m \u001b[39m# create an array with values in the interval [1,1000]\u001b[39;00m\n\u001b[1;32m----> 3\u001b[0m fac \u001b[39m=\u001b[39m \u001b[39m1\u001b[39m \u001b[39m/\u001b[39m k\u001b[39m*\u001b[39;49m\u001b[39m*\u001b[39;49m\u001b[39m2\u001b[39;49m\n\u001b[0;32m      4\u001b[0m sum_fac \u001b[39m=\u001b[39m \u001b[39m.\u001b[39m\u001b[39m.\u001b[39m\u001b[39m.\u001b[39m\n\u001b[0;32m      5\u001b[0m pi_app \u001b[39m=\u001b[39m \u001b[39m.\u001b[39m\u001b[39m.\u001b[39m\u001b[39m.\u001b[39m\n",
      "\u001b[1;31mTypeError\u001b[0m: unsupported operand type(s) for ** or pow(): 'ellipsis' and 'int'"
     ]
    }
   ],
   "source": [
    "# write your code here\n",
    "k = ... # create an array with values in the interval [1,1000]\n",
    "fac = 1 / k**2\n",
    "sum_fac = ...\n",
    "pi_app = ...\n",
    "\n",
    "###BEGIN SOLUTION TEMPLATE=\n",
    "k = np.arange(1, 1001, 1) # create an array with values in the interval [1,1000]\n",
    "fac = 1 / k**2\n",
    "sum_fac = np.sum(fac)\n",
    "pi_app = np.sqrt(6 * sum_fac)\n",
    "\n",
    "###END SOLUTION\n",
    "\n",
    "print(pi_app)"
   ]
  },
  {
   "cell_type": "code",
   "execution_count": null,
   "metadata": {},
   "outputs": [],
   "source": [
    "###BEGIN HIDDEN TESTS\n",
    "assert abs(pi_app - 3.14063805) <= 1e-6, '5.1.8 - Incorrect answer'\n",
    "###END HIDDEN TESTS"
   ]
  },
  {
   "cell_type": "markdown",
   "metadata": {
    "nbgrader": {
     "grade": false,
     "locked": true,
     "solution": false
    }
   },
   "source": [
    "## 2-Dimensional arrays and matrices\n",
    "\n",
    "As mentioned earlier, <code><b>numpy</b></code> is not solely built for 1D arrays $-$ it's built to work with multidimensional arrays! So, let's hop into 2D arrays and matrices, which you have already encountered in Linear Algebra. You can construct your own matrix using the <b><code>np.array()</code></b> function, as shown below."
   ]
  },
  {
   "cell_type": "markdown",
   "metadata": {
    "nbgrader": {
     "grade": false,
     "locked": true,
     "solution": false
    }
   },
   "source": [
    ":::{note}\n",
    "A matrix is strictly 2D. Furthermore, a 2D array is not the same as a 2D matrix. While a matrix is a 2D array, a 2D array is **not** a matrix, per se. \n",
    ":::\n"
   ]
  },
  {
   "cell_type": "code",
   "execution_count": 30,
   "metadata": {
    "collapsed": true,
    "nbgrader": {
     "grade": false,
     "locked": true,
     "solution": false
    }
   },
   "outputs": [
    {
     "name": "stdout",
     "output_type": "stream",
     "text": [
      "my_mat1 is \n",
      "[[2 2]\n",
      " [2 2]]\n",
      "and its type is <class 'numpy.ndarray'>\n"
     ]
    }
   ],
   "source": [
    "# let's create a matrix\n",
    "my_mat1 = np.array([[2,2],[2,2]])\n",
    "print('my_mat1 is \\n{}\\nand its type is {}'.format(my_mat1,type(my_mat1)))"
   ]
  },
  {
   "cell_type": "code",
   "execution_count": 31,
   "metadata": {
    "collapsed": true,
    "nbgrader": {
     "grade": false,
     "locked": true,
     "solution": false
    }
   },
   "outputs": [],
   "source": [
    "# let's create a second matrix so we can \n",
    "# do some operations with my_mat1\n",
    "my_mat2 = np.array([[1,0],[2,1]])"
   ]
  },
  {
   "cell_type": "code",
   "execution_count": 32,
   "metadata": {
    "collapsed": true,
    "nbgrader": {
     "grade": false,
     "locked": true,
     "solution": false
    }
   },
   "outputs": [
    {
     "name": "stdout",
     "output_type": "stream",
     "text": [
      "my_mat2 * my_mat1 is: \n",
      "[[2 0]\n",
      " [4 2]]\n",
      "\n",
      "###########\n",
      "\n",
      "my_mat1 * my_mat2 is: \n",
      "[[2 0]\n",
      " [4 2]]\n"
     ]
    }
   ],
   "source": [
    "# now let's multiply my_mat2 x my_mat1\n",
    "print('my_mat2 * my_mat1 is: \\n{}'.format(my_mat2 * my_mat1))\n",
    "print('\\n###########\\n')\n",
    "\n",
    "# let's also multiply my_mat x my_mat2 (changed order)\n",
    "print('my_mat1 * my_mat2 is: \\n{}'.format(my_mat1 * my_mat2))"
   ]
  },
  {
   "cell_type": "markdown",
   "metadata": {
    "nbgrader": {
     "grade": false,
     "locked": true,
     "solution": false
    }
   },
   "source": [
    "### ``np.dot()``\n",
    "\n",
    "Ok, this is not as expected. As you have seen in Linear Algebra, changing the order of the products <b>affects</b> the final result, when multiplying matrices. You may also check the result by calculating the matrix products by hand. What actually happened, is that Python performed an <b>element-wise</b> multiplication... But, what if you would like to apply matrix multiplication? We will show three options for that."
   ]
  },
  {
   "cell_type": "markdown",
   "metadata": {},
   "source": [
    "* Option 1 - ``np.dot(arr1 ,  arr2)``"
   ]
  },
  {
   "cell_type": "code",
   "execution_count": 33,
   "metadata": {
    "collapsed": true,
    "nbgrader": {
     "grade": false,
     "locked": true,
     "solution": false
    }
   },
   "outputs": [
    {
     "name": "stdout",
     "output_type": "stream",
     "text": [
      "np.dot(my_mat2 , my_mat1) is: \n",
      "[[2 2]\n",
      " [6 6]]\n",
      "\n",
      "###########\n",
      "\n",
      "np.dot(my_mat1 , my_mat2) is:\n",
      "[[6 2]\n",
      " [6 2]]\n"
     ]
    }
   ],
   "source": [
    "# np.dot(my_mat2 , my_mat1)\n",
    "print('np.dot(my_mat2 , my_mat1) is: \\n{}'.format(np.dot(my_mat2 , my_mat1)))\n",
    "\n",
    "print('\\n###########\\n')\n",
    "\n",
    "# np.dot(my_mat1 , my_mat2)\n",
    "print('np.dot(my_mat1 , my_mat2) is:\\n{}'.format(np.dot(my_mat1 , my_mat2)))\n"
   ]
  },
  {
   "cell_type": "markdown",
   "metadata": {
    "nbgrader": {
     "grade": false,
     "locked": true,
     "solution": false
    }
   },
   "source": [
    "Check the answers with the results you got when calculating by hand! This is better, isn't it?"
   ]
  },
  {
   "cell_type": "markdown",
   "metadata": {},
   "source": [
    "* Option 2 - ``arr1.dot(arr2)``"
   ]
  },
  {
   "cell_type": "code",
   "execution_count": 34,
   "metadata": {
    "collapsed": true,
    "nbgrader": {
     "grade": false,
     "locked": true,
     "solution": false
    }
   },
   "outputs": [
    {
     "name": "stdout",
     "output_type": "stream",
     "text": [
      "my_mat2.dot(my_mat1) is:\n",
      "[[2 2]\n",
      " [6 6]]\n",
      "\n",
      "###########\n",
      "\n",
      "my_mat1.dot(my_mat2) is: \n",
      "[[6 2]\n",
      " [6 2]]\n"
     ]
    }
   ],
   "source": [
    "# my_mat2.dot(my_mat1)\n",
    "print('my_mat2.dot(my_mat1) is:\\n{}'.format(my_mat2.dot(my_mat1)))\n",
    "\n",
    "print('\\n###########\\n')\n",
    "\n",
    "# my_mat1.dot(my_mat2)\n",
    "print('my_mat1.dot(my_mat2) is: \\n{}'.format(my_mat1.dot(my_mat2)))\n"
   ]
  },
  {
   "cell_type": "markdown",
   "metadata": {},
   "source": [
    "* Option 3 - ``arr1 @ arr2``"
   ]
  },
  {
   "cell_type": "code",
   "execution_count": 35,
   "metadata": {
    "collapsed": true,
    "nbgrader": {
     "grade": false,
     "locked": true,
     "solution": false
    }
   },
   "outputs": [
    {
     "name": "stdout",
     "output_type": "stream",
     "text": [
      "my_mat2 @ my_mat1 is:\n",
      "[[2 2]\n",
      " [6 6]]\n",
      "\n",
      "###########\n",
      "\n",
      "my_mat1 @ my_mat2 is: \n",
      "[[6 2]\n",
      " [6 2]]\n"
     ]
    }
   ],
   "source": [
    "# my_mat2 @ my_mat1\n",
    "print('my_mat2 @ my_mat1 is:\\n{}'.format(my_mat2 @ my_mat1))\n",
    "\n",
    "print('\\n###########\\n')\n",
    "\n",
    "# my_mat1 @ my_mat2\n",
    "print('my_mat1 @ my_mat2 is: \\n{}'.format(my_mat1 @ my_mat2))"
   ]
  },
  {
   "cell_type": "markdown",
   "metadata": {
    "nbgrader": {
     "grade": false,
     "locked": true,
     "solution": false
    }
   },
   "source": [
    "As you see from the previous examples, there are at least three different ways to multiply 2D arrays in the same way that you would multiply matrices."
   ]
  },
  {
   "cell_type": "markdown",
   "metadata": {
    "nbgrader": {
     "grade": false,
     "locked": true,
     "solution": false
    }
   },
   "source": [
    "\n",
    "Given the matrices $A$, $B$, and $C$ below, calculate $D = AB\\ C^{-1}$\n",
    "\n",
    "$$A = \\begin{bmatrix}2 & 3 \\\\ 4 & 5 \\end{bmatrix}$$\n",
    "$$B = \\begin{bmatrix}2 & 1 \\\\ 1 & 2\\end{bmatrix}$$\n",
    "$$C = \\begin{bmatrix}6 & 1 \\\\ 1 & 1\\end{bmatrix}$$\n"
   ]
  },
  {
   "cell_type": "code",
   "execution_count": 37,
   "metadata": {
    "collapsed": true
   },
   "outputs": [],
   "source": [
    "#let's create the matrices A,B, and C\n",
    "Mat_A = np.array([[2,3],[4,5]])\n",
    "Mat_B = np.array([[2,1],[1,2]])\n",
    "Mat_C = np.array([[6,1],[1,1]])\n"
   ]
  },
  {
   "cell_type": "markdown",
   "metadata": {},
   "source": [
    "Invert matrix $C$ using ``np.linalg.inv(Mat_C)`` and perform $A\\times B\\times C_{inverse}$."
   ]
  },
  {
   "cell_type": "code",
   "execution_count": 38,
   "metadata": {},
   "outputs": [
    {
     "name": "stdout",
     "output_type": "stream",
     "text": [
      "[[ 0.8 -0.6]\n",
      " [-0.8 12. ]]\n"
     ]
    }
   ],
   "source": [
    "#Invert amtrix C\n",
    "Mat_C_inv = np.linalg.inv(Mat_C)\n",
    "\n",
    "Mat_D = (Mat_A*Mat_B)*Mat_C_inv\n",
    "###END SOLUTION\n",
    "print(Mat_D)"
   ]
  },
  {
   "cell_type": "markdown",
   "metadata": {},
   "source": [
    "### ``np.shape()``"
   ]
  },
  {
   "cell_type": "markdown",
   "metadata": {},
   "source": [
    "A very useful tool of the <code>numpy</code> package is the <code>np.shape()</code> function. When dealing with very large arrays, you often need to find out how many elements are in there, or how many rows and columns there are. Your task for this exercise is to find out how many elements there are in <code>random_array</code> and how many rows and columns <code>random_matrix</code> has."
   ]
  },
  {
   "cell_type": "code",
   "execution_count": null,
   "metadata": {},
   "outputs": [
    {
     "name": "stdout",
     "output_type": "stream",
     "text": [
      "There are 2 elements in Mat_D\n",
      "\n",
      "The shape of Mat_D is (2, 2). Hence, there are 2 rows and 2 columns in Mat_D.\n",
      "\n"
     ]
    }
   ],
   "source": [
    "#how many elements are in  Mat_D\n",
    "print(f'There are {len(Mat_D)} elements in Mat_D\\n')\n",
    "\n",
    "#how many rows and columns there are Mat_D\n",
    "print(f'The shape of Mat_D is {np.shape(Mat_D)}. Hence, there are {np.shape(Mat_D)[0]} rows and {np.shape(Mat_D)[1]} columns in Mat_D.\\n')"
   ]
  },
  {
   "cell_type": "markdown",
   "metadata": {
    "nbgrader": {
     "grade": false,
     "locked": true,
     "solution": false
    }
   },
   "source": [
    "Ok, now let's create a 2D array and play with it a bit, to show more functionalities of the <b><code>numpy</code></b> module..."
   ]
  },
  {
   "cell_type": "code",
   "execution_count": null,
   "metadata": {
    "collapsed": true,
    "nbgrader": {
     "grade": false,
     "locked": true,
     "solution": false
    }
   },
   "outputs": [],
   "source": [
    "# generating a 10x11 array (10 rows, 11 columns)\n",
    "arr = np.zeros([10,11])\n",
    "np.set_printoptions(threshold=1000) # ignore, just making sure we see the entire array this time\n",
    "print(arr)"
   ]
  },
  {
   "cell_type": "code",
   "execution_count": null,
   "metadata": {
    "collapsed": true,
    "nbgrader": {
     "grade": false,
     "locked": true,
     "solution": false
    }
   },
   "outputs": [],
   "source": [
    "# now let's give it the vaules 0,1,2,3,...,109:\n",
    "cnt = 0\n",
    "for i in range(len(arr)):\n",
    "    for j in range (len(arr[0])): # since a 2D numpy array is ALWAYS regular, all rows have the\n",
    "        arr[i,j] = cnt            # same number of elements, which, in turn, is the number of columns\n",
    "        cnt+=1\n",
    "        \n",
    "print(arr)"
   ]
  },
  {
   "cell_type": "markdown",
   "metadata": {
    "nbgrader": {
     "grade": false,
     "locked": true,
     "solution": false
    }
   },
   "source": [
    "\n",
    "### Conditions within arrays\n",
    "\n",
    "Similar to what you've seen in Notebook 2, you can also use conditions to check for values within an array. Let's say you want to select the elements within <b><code>arr</code></b> that are bigger than $100$:"
   ]
  },
  {
   "cell_type": "code",
   "execution_count": 74,
   "metadata": {
    "collapsed": true,
    "nbgrader": {
     "grade": false,
     "locked": true,
     "solution": false
    }
   },
   "outputs": [
    {
     "data": {
      "text/plain": [
       "array([200, 300])"
      ]
     },
     "execution_count": 74,
     "metadata": {},
     "output_type": "execute_result"
    }
   ],
   "source": [
    "arr = np.array([[60,70],[200,300],[1,2],[40,45]])\n",
    "arr[arr>100]"
   ]
  },
  {
   "cell_type": "markdown",
   "metadata": {
    "nbgrader": {
     "grade": false,
     "locked": true,
     "solution": false
    }
   },
   "source": [
    "If you want to know how many elements those are, you can simply check the length:"
   ]
  },
  {
   "cell_type": "code",
   "execution_count": 75,
   "metadata": {
    "collapsed": true,
    "nbgrader": {
     "grade": false,
     "locked": true,
     "solution": false
    }
   },
   "outputs": [
    {
     "data": {
      "text/plain": [
       "2"
      ]
     },
     "execution_count": 75,
     "metadata": {},
     "output_type": "execute_result"
    }
   ],
   "source": [
    "len(arr[arr>100])"
   ]
  },
  {
   "cell_type": "markdown",
   "metadata": {
    "nbgrader": {
     "grade": false,
     "locked": true,
     "solution": false
    }
   },
   "source": [
    "Now, instead of counting how many elements are bigger than $100$, let's say you want to set all values bigger than $100$ to be $0$. You could do the following:"
   ]
  },
  {
   "cell_type": "code",
   "execution_count": 76,
   "metadata": {
    "collapsed": true,
    "nbgrader": {
     "grade": false,
     "locked": true,
     "solution": false
    }
   },
   "outputs": [
    {
     "name": "stdout",
     "output_type": "stream",
     "text": [
      "[[60 70]\n",
      " [ 0  0]\n",
      " [ 1  2]\n",
      " [40 45]]\n"
     ]
    }
   ],
   "source": [
    "arr[arr>100] = 0\n",
    "print(arr)"
   ]
  },
  {
   "cell_type": "markdown",
   "metadata": {
    "nbgrader": {
     "grade": false,
     "locked": true,
     "solution": false
    }
   },
   "source": [
    "You can also include multiple conditions... say you want to change all values between $(50,80)$ to be $-1$, then:"
   ]
  },
  {
   "cell_type": "code",
   "execution_count": 77,
   "metadata": {
    "collapsed": true,
    "nbgrader": {
     "grade": false,
     "locked": true,
     "solution": false
    }
   },
   "outputs": [
    {
     "name": "stdout",
     "output_type": "stream",
     "text": [
      "[[-1 -1]\n",
      " [ 0  0]\n",
      " [ 1  2]\n",
      " [40 45]]\n"
     ]
    }
   ],
   "source": [
    "arr[(arr>50) & (arr<80)] = -1 # note that the & means AND, so both conditions must apply\n",
    "print(arr)"
   ]
  },
  {
   "cell_type": "markdown",
   "metadata": {
    "nbgrader": {
     "grade": false,
     "locked": true,
     "solution": false
    }
   },
   "source": [
    "Say you want to change all values between $[0,10]$ or values between $[40,50)$, to $1$. Then:"
   ]
  },
  {
   "cell_type": "code",
   "execution_count": 78,
   "metadata": {
    "collapsed": true,
    "nbgrader": {
     "grade": false,
     "locked": true,
     "solution": false
    }
   },
   "outputs": [
    {
     "name": "stdout",
     "output_type": "stream",
     "text": [
      "[[-1 -1]\n",
      " [ 1  1]\n",
      " [ 1  1]\n",
      " [ 1  1]]\n"
     ]
    }
   ],
   "source": [
    "arr[((arr>=0) & (arr<=10)) | (arr>=40) & (arr<50)] = 1 \n",
    "print(arr)"
   ]
  },
  {
   "cell_type": "markdown",
   "metadata": {
    "nbgrader": {
     "grade": false,
     "locked": true,
     "solution": false
    }
   },
   "source": [
    "::: {note}\n",
    "* The notation $[40,50)$ means every value between $40$ and $50$, including $40$ but excluding $50$; similar to $(40 \\leq value < 50)$.\n",
    "* The notation <b><code>&</code></b> means <i>'and'</i>, the notation <b><code>|</code></b> means <i>'or'</i>.\n",
    ":::"
   ]
  },
  {
   "cell_type": "markdown",
   "metadata": {
    "nbgrader": {
     "grade": false,
     "locked": true,
     "solution": false
    }
   },
   "source": [
    "### ``np.where()`` and ``np.astype()``\n",
    "\n",
    "Another useful way to modify values within your array is using the <b><code>np.where()</code></b> function. Let's see how it works."
   ]
  },
  {
   "cell_type": "code",
   "execution_count": 81,
   "metadata": {
    "collapsed": true,
    "nbgrader": {
     "grade": false,
     "locked": true,
     "solution": false
    }
   },
   "outputs": [
    {
     "name": "stdout",
     "output_type": "stream",
     "text": [
      "<class 'tuple'>\n"
     ]
    }
   ],
   "source": [
    "# resetting `arr` \n",
    "arr = np.zeros([10,11])\n",
    "\n",
    "cnt = 0\n",
    "for i in range(len(arr)):\n",
    "    for j in range (len(arr[0])): \n",
    "        arr[i,j] = cnt            \n",
    "        cnt+=1\n",
    "        \n",
    "# testing np.where\n",
    "\n",
    "arr2 = np.where(arr>50)\n",
    "print(type(arr2))"
   ]
  },
  {
   "cell_type": "markdown",
   "metadata": {
    "nbgrader": {
     "grade": false,
     "locked": true,
     "solution": false
    }
   },
   "source": [
    "\n",
    "Ok, so using <b><code>np.where()</code></b> returns a tuple. Let's transform it into an array, check its shape, and its elements."
   ]
  },
  {
   "cell_type": "code",
   "execution_count": 80,
   "metadata": {
    "collapsed": true,
    "nbgrader": {
     "grade": false,
     "locked": true,
     "solution": false
    }
   },
   "outputs": [
    {
     "name": "stdout",
     "output_type": "stream",
     "text": [
      "(2, 59)\n",
      "\n",
      "\n",
      "------------\n",
      "[[ 4  4  4 ...  9  9  9]\n",
      " [ 7  8  9 ...  8  9 10]]\n"
     ]
    }
   ],
   "source": [
    "arr2 = np.array(arr2)\n",
    "print(arr2.shape)\n",
    "print('\\n\\n------------')\n",
    "print(arr2)"
   ]
  },
  {
   "cell_type": "markdown",
   "metadata": {
    "nbgrader": {
     "grade": false,
     "locked": true,
     "solution": false
    }
   },
   "source": [
    "Ok.. so it looks like <b><code>np.where()</code></b> returned a tuple with the index values where <b><code>arr > 50</code></b>. For instance, the first element of each row of <b><code>arr2</code></b> is the first position where <b><code>arr > 50</code></b>, so <b><code>arr[4][7]</code></b> should return $51$. Let's try it out."
   ]
  },
  {
   "cell_type": "code",
   "execution_count": 82,
   "metadata": {
    "collapsed": true,
    "nbgrader": {
     "grade": false,
     "locked": true,
     "solution": false
    }
   },
   "outputs": [
    {
     "data": {
      "text/plain": [
       "51.0"
      ]
     },
     "execution_count": 82,
     "metadata": {},
     "output_type": "execute_result"
    }
   ],
   "source": [
    "arr[4][7]"
   ]
  },
  {
   "cell_type": "markdown",
   "metadata": {
    "nbgrader": {
     "grade": false,
     "locked": true,
     "solution": false
    }
   },
   "source": [
    "Indeed that's how <b><code>np.where()</code></b> works. It also has similar functionality to the one we described above with <b><code>arr[arr>100] = 0</code></b>. Like this:"
   ]
  },
  {
   "cell_type": "code",
   "execution_count": 83,
   "metadata": {
    "collapsed": true,
    "nbgrader": {
     "grade": false,
     "locked": true,
     "solution": false
    }
   },
   "outputs": [
    {
     "name": "stdout",
     "output_type": "stream",
     "text": [
      "[[  0.   1.   2. ...   8.   9.  10.]\n",
      " [ 11.  12.  13. ...  19.  20.  21.]\n",
      " [ 22.  23.  24. ...  30.  31.  32.]\n",
      " ...\n",
      " [ 77.  78.  79. ...  85.  86.  87.]\n",
      " [ 88.  89.  90. ...  96.  97.  98.]\n",
      " [ 99. 100.   0. ...   0.   0.   0.]]\n"
     ]
    }
   ],
   "source": [
    "new_arr = np.where(arr>100,0,arr)\n",
    "print(new_arr)"
   ]
  },
  {
   "cell_type": "markdown",
   "metadata": {
    "nbgrader": {
     "grade": false,
     "locked": true,
     "solution": false
    }
   },
   "source": [
    "So, <b><code>np.where()</code></b> can be used in two ways. Either to return a tuple with the index of values that fall under the specified condition; or, to return a modified array following the specified condition.<br><Br> In the above case, <b><code>new_arr = np.where(arr>100,0,arr)</code></b> reads: <b>where</b> arr>100, <b>return</b> 0, <b>otherwise</b> return arr"
   ]
  },
  {
   "cell_type": "markdown",
   "metadata": {
    "nbgrader": {
     "grade": false,
     "locked": true,
     "solution": false
    }
   },
   "source": [
    "Lastly, we can change the type of variables within an array with the <b><code>np.astype()</code></b> function. Below a quick example:"
   ]
  },
  {
   "cell_type": "code",
   "execution_count": 84,
   "metadata": {
    "collapsed": true,
    "nbgrader": {
     "grade": false,
     "locked": true,
     "solution": false
    }
   },
   "outputs": [
    {
     "name": "stdout",
     "output_type": "stream",
     "text": [
      "[1.12 2.5  3.8 ]\n"
     ]
    }
   ],
   "source": [
    "arr_float = np.array([1.12,2.5,3.8], dtype='float') # creating an array of floats\n",
    "print(arr_float)"
   ]
  },
  {
   "cell_type": "code",
   "execution_count": 85,
   "metadata": {
    "collapsed": true,
    "nbgrader": {
     "grade": false,
     "locked": true,
     "solution": false
    }
   },
   "outputs": [
    {
     "name": "stdout",
     "output_type": "stream",
     "text": [
      "[1 2 3]\n"
     ]
    }
   ],
   "source": [
    "arr_int = arr_float.astype(int)\n",
    "print(arr_int)"
   ]
  },
  {
   "cell_type": "markdown",
   "metadata": {
    "nbgrader": {
     "grade": false,
     "locked": true,
     "solution": false
    }
   },
   "source": [
    "Well.. apparently it worked, all numbers have been rounded down to their closer integer."
   ]
  },
  {
   "cell_type": "markdown",
   "metadata": {
    "nbgrader": {
     "grade": false,
     "locked": true,
     "solution": false
    }
   },
   "source": [
    "### ``np.argmax()`` and ``np.argmin()``\n",
    "\n",
    "Other functions that assist you in localizing some values within an array are the <b><code>np.argmax()</code></b> and <b><code>np.argmin()</code></b> functions. As the name states, they return the first index with the max (or min) value. Let's check some quick examples:"
   ]
  },
  {
   "cell_type": "code",
   "execution_count": 86,
   "metadata": {
    "collapsed": true,
    "nbgrader": {
     "grade": false,
     "locked": true,
     "solution": false
    }
   },
   "outputs": [
    {
     "name": "stdout",
     "output_type": "stream",
     "text": [
      "0 109\n"
     ]
    }
   ],
   "source": [
    "print(np.argmin(arr),np.argmax(arr))"
   ]
  },
  {
   "cell_type": "markdown",
   "metadata": {
    "nbgrader": {
     "grade": false,
     "locked": true,
     "solution": false
    }
   },
   "source": [
    "No surprises there.. the index where <code>arr</code> has its minimum value is $0$, and it has its maximum at $109$. Below an example of how these functions might be useful:"
   ]
  },
  {
   "cell_type": "markdown",
   "metadata": {
    "nbgrader": {
     "grade": false,
     "locked": true,
     "solution": false
    }
   },
   "source": [
    "Say you have an array with the maximum temperature of each month in the NL, and you would like to know which month had the temperature closest to $15$ degrees."
   ]
  },
  {
   "cell_type": "code",
   "execution_count": 87,
   "metadata": {
    "collapsed": true,
    "nbgrader": {
     "grade": false,
     "locked": true,
     "solution": false
    }
   },
   "outputs": [],
   "source": [
    "temp_NL = np.array([3.1,3.3,6.2,9.2,13.1,15.6,17.9,17.5,14.5,10.7,6.7,3.7]) # list of temp, per month"
   ]
  },
  {
   "cell_type": "markdown",
   "metadata": {
    "nbgrader": {
     "grade": false,
     "locked": true,
     "solution": false
    }
   },
   "source": [
    "You can use the `abs()` and `np.argmin()` functions to find out which month had the temperature closest to $15$ degrees."
   ]
  },
  {
   "cell_type": "code",
   "execution_count": 88,
   "metadata": {
    "collapsed": true,
    "nbgrader": {
     "grade": false,
     "locked": true,
     "solution": false
    }
   },
   "outputs": [
    {
     "name": "stdout",
     "output_type": "stream",
     "text": [
      "8\n"
     ]
    }
   ],
   "source": [
    "dif_arr = abs(temp_NL - 15) # array with the monthly (absolute) deviations from 15 degrees, \n",
    "                            # now you only need to find where this\n",
    "                            # deviation was the smallest using np.argmin()\n",
    "    \n",
    "min_temp_indx = np.argmin(dif_arr)\n",
    "print(min_temp_indx)"
   ]
  },
  {
   "cell_type": "markdown",
   "metadata": {
    "nbgrader": {
     "grade": false,
     "locked": true,
     "solution": false
    }
   },
   "source": [
    "The month with the temperature closest to $15$ was the month with index $8$, which is September. (Recall 0-th based index, therefore index 8 corresponds to the $9^{th}$ month = September)."
   ]
  },
  {
   "cell_type": "markdown",
   "metadata": {
    "nbgrader": {
     "grade": false,
     "locked": true,
     "solution": false
    }
   },
   "source": [
    "### ``np.transpose()``\n",
    "\n",
    "The function <code>np.transpose()</code> is another helpful function. It returns the transpose of an array (or matrix). Below some examples."
   ]
  },
  {
   "cell_type": "code",
   "execution_count": 89,
   "metadata": {
    "collapsed": true,
    "nbgrader": {
     "grade": false,
     "locked": true,
     "solution": false
    }
   },
   "outputs": [
    {
     "name": "stdout",
     "output_type": "stream",
     "text": [
      "[[24 41 12 ... 17 92 24]]\n"
     ]
    }
   ],
   "source": [
    "# let's generate a (1,10) array with random int numbers between 0 and 100.\n",
    "x = np.random.randint(100,size = (1,10))\n",
    "print(x)"
   ]
  },
  {
   "cell_type": "code",
   "execution_count": 90,
   "metadata": {
    "collapsed": true,
    "nbgrader": {
     "grade": false,
     "locked": true,
     "solution": false
    }
   },
   "outputs": [
    {
     "name": "stdout",
     "output_type": "stream",
     "text": [
      "[[24]\n",
      " [41]\n",
      " [12]\n",
      " ...\n",
      " [17]\n",
      " [92]\n",
      " [24]]\n"
     ]
    }
   ],
   "source": [
    "# now, if we transpose the array:\n",
    "x_transpose = np.transpose(x)\n",
    "print(x_transpose)"
   ]
  },
  {
   "cell_type": "code",
   "execution_count": 91,
   "metadata": {
    "collapsed": true,
    "nbgrader": {
     "grade": false,
     "locked": true,
     "solution": false
    }
   },
   "outputs": [
    {
     "name": "stdout",
     "output_type": "stream",
     "text": [
      "(10, 1)\n"
     ]
    }
   ],
   "source": [
    "# we can also see that the new shape is (10,1)\n",
    "print(x_transpose.shape)"
   ]
  },
  {
   "cell_type": "markdown",
   "metadata": {
    "nbgrader": {
     "grade": false,
     "locked": true,
     "solution": false
    }
   },
   "source": [
    "Recall the equation <b>$A x = b$</b> from Linear Algebra, with $A$ being an $m$ x $n$ Matrix. Here, $A x$ only exists if  $x$ has an $n$ x $1$ shape. In this scenario, the <b><code>np.transpose()</code></b> could come in handy. Let's look at the below example."
   ]
  },
  {
   "cell_type": "code",
   "execution_count": 92,
   "metadata": {
    "collapsed": true,
    "nbgrader": {
     "grade": false,
     "locked": true,
     "solution": false
    }
   },
   "outputs": [
    {
     "name": "stdout",
     "output_type": "stream",
     "text": [
      "[[0 8 9 ... 0 8 6]\n",
      " [2 5 7 ... 0 6 0]\n",
      " [2 0 7 ... 3 5 9]\n",
      " ...\n",
      " [9 0 5 ... 5 4 3]\n",
      " [0 9 6 ... 3 7 0]\n",
      " [7 1 4 ... 2 1 7]]\n"
     ]
    }
   ],
   "source": [
    "# generating a 10 x 10 matrix\n",
    "A = np.random.randint(10, size=(10,10))\n",
    "\n",
    "print(A)"
   ]
  },
  {
   "cell_type": "code",
   "execution_count": 93,
   "metadata": {
    "collapsed": true,
    "nbgrader": {
     "grade": false,
     "locked": true,
     "solution": false
    }
   },
   "outputs": [
    {
     "ename": "ValueError",
     "evalue": "matmul: Input operand 1 has a mismatch in its core dimension 0, with gufunc signature (n?,k),(k,m?)->(n?,m?) (size 1 is different from 10)",
     "output_type": "error",
     "traceback": [
      "\u001b[1;31m---------------------------------------------------------------------------\u001b[0m",
      "\u001b[1;31mValueError\u001b[0m                                Traceback (most recent call last)",
      "Cell \u001b[1;32mIn[93], line 2\u001b[0m\n\u001b[0;32m      1\u001b[0m \u001b[39m# now if we try to perform Ax\u001b[39;00m\n\u001b[1;32m----> 2\u001b[0m b \u001b[39m=\u001b[39m A\u001b[39m@x\u001b[39;49m\n",
      "\u001b[1;31mValueError\u001b[0m: matmul: Input operand 1 has a mismatch in its core dimension 0, with gufunc signature (n?,k),(k,m?)->(n?,m?) (size 1 is different from 10)"
     ]
    }
   ],
   "source": [
    "# now if we try to perform Ax\n",
    "b = A@x"
   ]
  },
  {
   "cell_type": "markdown",
   "metadata": {
    "nbgrader": {
     "grade": false,
     "locked": true,
     "solution": false
    }
   },
   "source": [
    "It gives an error since <b><code>x.shape</code></b> is $1$ x $10$. Now if we try with <b><code>x_tranpose</code></b>..."
   ]
  },
  {
   "cell_type": "code",
   "execution_count": 94,
   "metadata": {
    "collapsed": true,
    "nbgrader": {
     "grade": false,
     "locked": true,
     "solution": false
    }
   },
   "outputs": [
    {
     "name": "stdout",
     "output_type": "stream",
     "text": [
      "[[3345]\n",
      " [2206]\n",
      " [2454]\n",
      " ...\n",
      " [2848]\n",
      " [2723]\n",
      " [1595]]\n"
     ]
    }
   ],
   "source": [
    "b = A@x_transpose\n",
    "print(b)"
   ]
  },
  {
   "cell_type": "markdown",
   "metadata": {
    "nbgrader": {
     "grade": false,
     "locked": true,
     "solution": false
    }
   },
   "source": [
    "It works! Finally, a quicker way to transpose an array is to use <b><code>.T</code></b>, as shown below"
   ]
  },
  {
   "cell_type": "code",
   "execution_count": 95,
   "metadata": {
    "collapsed": true,
    "nbgrader": {
     "grade": false,
     "locked": true,
     "solution": false
    }
   },
   "outputs": [
    {
     "name": "stdout",
     "output_type": "stream",
     "text": [
      "[[24]\n",
      " [41]\n",
      " [12]\n",
      " ...\n",
      " [17]\n",
      " [92]\n",
      " [24]]\n"
     ]
    }
   ],
   "source": [
    "x_tranpose2 = x.T\n",
    "print(x_tranpose2)"
   ]
  },
  {
   "cell_type": "markdown",
   "metadata": {
    "nbgrader": {
     "grade": false,
     "locked": true,
     "solution": false
    }
   },
   "source": [
    "### Exercise 5.1.6\n",
    "\n",
    "In Notebook 2, you were already introduced to <code>for</code> loops. In this exercise, your task is to create a <code>for</code> loop to append integer numbers between $[0,10]$ to the list $A$."
   ]
  },
  {
   "cell_type": "code",
   "execution_count": 17,
   "metadata": {},
   "outputs": [
    {
     "name": "stdout",
     "output_type": "stream",
     "text": [
      "[0, 1, 2, 3, 4, 5, 6, 7, 8, 9, 10]\n"
     ]
    }
   ],
   "source": [
    "'''Do not change this varible!'''\n",
    "A = []\n",
    "\n",
    "# your code here\n",
    "...\n",
    "\n",
    "###BEGIN SOLUTION TEMPLATE=\n",
    "A = []\n",
    "\n",
    "for i in range(0, 10 + 1):\n",
    "    A.append(i)\n",
    "###END SOLUTION\n",
    "\n",
    "   \n",
    "print(A)"
   ]
  },
  {
   "cell_type": "code",
   "execution_count": 18,
   "metadata": {
    "nbgrader": {
     "grade": true,
     "grade_id": "Q5.1.6",
     "locked": true,
     "points": "1",
     "solution": false
    }
   },
   "outputs": [],
   "source": [
    "###BEGIN HIDDEN TESTS\n",
    "assert (A == list(range(11))), '5.1.6 - Incorrect answer'\n",
    "###END HIDDEN TESTS"
   ]
  },
  {
   "cell_type": "markdown",
   "metadata": {
    "nbgrader": {
     "grade": false,
     "locked": true,
     "solution": false
    }
   },
   "source": [
    "### Exercise 5.1.7\n",
    "\n",
    "An aeroplane is initially flying at a speed of $v_0 = 85 \\ m/s$, when it starts accelerating horizontally by exerting a force of $3000 \\ N$. An aerospace engineer wants to know its instantaneous speed, every second, for $1$ minute. The equation of air resistance is $F_{\\text{air}} = kv^2$ with $k = 0.24  \\ \\frac{kg}{m}$. The mass of the airplane is $2000 \\ kg$.<br><br>From physics we know that,<br><ol><li>$v_i = v_{i-1} + a_{i-1}(t_i-t_{i-1}) =v_{i-1} + a_{i-1}$</li><li>$F_{\\text{air},i} = k\\cdot v_i^2$</li><li>$F - F_{\\text{air},i} = m\\cdot a_i$</li></ol><br>where $t_i$ refers to the $i$-th time instant and in our case $t_i-t_{i-1}=1$ s. Your task is to return <code>v</code>, a list containing the speed of the plane at $t = 0 \\ s$, $t = 1 \\ s$, ..., $t = 60 \\ s$. (Therefore, <code>v</code> should have $61$ elements). "
   ]
  },
  {
   "cell_type": "code",
   "execution_count": 5,
   "metadata": {},
   "outputs": [
    {
     "ename": "TypeError",
     "evalue": "float() argument must be a string or a number, not 'ellipsis'",
     "output_type": "error",
     "traceback": [
      "\u001b[0;31m---------------------------------------------------------------------------\u001b[0m",
      "\u001b[0;31mTypeError\u001b[0m                                 Traceback (most recent call last)",
      "\u001b[0;32m<ipython-input-5-e30615c2c677>\u001b[0m in \u001b[0;36m<module>\u001b[0;34m\u001b[0m\n\u001b[1;32m     11\u001b[0m \u001b[0;31m# # Start your code here\u001b[0m\u001b[0;34m\u001b[0m\u001b[0;34m\u001b[0m\u001b[0m\n\u001b[1;32m     12\u001b[0m \u001b[0;32mfor\u001b[0m \u001b[0mi\u001b[0m \u001b[0;32min\u001b[0m \u001b[0mrange\u001b[0m\u001b[0;34m(\u001b[0m\u001b[0;36m1\u001b[0m\u001b[0;34m,\u001b[0m\u001b[0mlen\u001b[0m\u001b[0;34m(\u001b[0m\u001b[0mt\u001b[0m\u001b[0;34m)\u001b[0m\u001b[0;34m)\u001b[0m\u001b[0;34m:\u001b[0m\u001b[0;34m\u001b[0m\u001b[0m\n\u001b[0;32m---> 13\u001b[0;31m     \u001b[0mv\u001b[0m\u001b[0;34m[\u001b[0m\u001b[0mi\u001b[0m\u001b[0;34m]\u001b[0m \u001b[0;34m=\u001b[0m \u001b[0;34m...\u001b[0m\u001b[0;34m\u001b[0m\u001b[0m\n\u001b[0m\u001b[1;32m     14\u001b[0m     \u001b[0mF_air\u001b[0m \u001b[0;34m=\u001b[0m \u001b[0;34m...\u001b[0m\u001b[0;34m\u001b[0m\u001b[0m\n\u001b[1;32m     15\u001b[0m     \u001b[0mF_R\u001b[0m \u001b[0;34m=\u001b[0m \u001b[0;34m...\u001b[0m\u001b[0;34m\u001b[0m\u001b[0m\n",
      "\u001b[0;31mTypeError\u001b[0m: float() argument must be a string or a number, not 'ellipsis'"
     ]
    }
   ],
   "source": [
    "'''Do not change these variables!'''\n",
    "t = np.arange(0,61,1) # seconds\n",
    "v = np.zeros(len(t))\n",
    "v[0] = 85 # m/s\n",
    "a = 0\n",
    "m = 2000 # kg\n",
    "c = 0.24 # kg/m\n",
    "F = 3000 # N\n",
    "\n",
    "\n",
    "# # Start your code here\n",
    "for i in range(1,len(t)):\n",
    "    v[i] = ...\n",
    "    F_air = ...\n",
    "    F_R = ...\n",
    "    a = ...\n",
    "    \n",
    "###BEGIN SOLUTION TEMPLATE=\n",
    "for i in range(1,len(t)):\n",
    "    v[i] = v[i-1] + a\n",
    "    F_air = c * v[i]**2\n",
    "    F_R = F - F_air\n",
    "    a = F_R / m\n",
    "###END SOLUTION\n",
    "\n",
    "'''Here we will generate a plot to show the results, do not change anything below'''\n",
    "import matplotlib.pyplot as plt   \n",
    "\n",
    "fig, ax = plt.subplots()\n",
    "ax.plot(t,v)\n",
    "ax.set(ylim = (80,120), xlim = (0,60),\n",
    "title='Aeroplane speed through 1 min of constant acceleration',\n",
    "xlabel='time [s]', ylabel = 'speed [m/s]')\n",
    "plt.show()"
   ]
  },
  {
   "cell_type": "code",
   "execution_count": null,
   "metadata": {
    "collapsed": true,
    "nbgrader": {
     "grade": true,
     "grade_id": "Q5.1.7",
     "locked": true,
     "points": "1",
     "solution": false
    }
   },
   "outputs": [],
   "source": [
    "###BEGIN HIDDEN TESTS\n",
    "v_list_check = []\n",
    "a = 0\n",
    "m = 2000 # kg\n",
    "c = 0.24 # kg/m\n",
    "F = 3000 # N\n",
    "\n",
    "for i in range(len(t)):\n",
    "    if i == 0:\n",
    "        v_list_check.append(85)\n",
    "    else:\n",
    "        v_cur = v_list_check[i-1] + a\n",
    "        v_list_check.append(v_cur)\n",
    "        F_air = c*v_list_check[i]**2\n",
    "        F_R = F-F_air\n",
    "        a = F_R/m \n",
    "        \n",
    "assert np.sum(np.abs(np.array(v_list_check) - np.array(v))) <= 1e-6, '5.1.7 - Incorrect answer'\n",
    "###END HIDDEN TESTS"
   ]
  },
  {
   "cell_type": "markdown",
   "metadata": {
    "nbgrader": {
     "grade": false,
     "locked": true,
     "solution": false
    }
   },
   "source": [
    "If you have done the exercise correctly, the graph produced should have shown a decrease in the slope of the curve as the airplane keeps accelerating. This is due to the fact that the force produced by the plane is constant while the air resistance is quadratically related to the velocity. Therefore, a higher velocity yields a quadratic increase in air resistance; and, therefore, a smaller acceleration."
   ]
  },
  {
   "cell_type": "markdown",
   "metadata": {
    "nbgrader": {
     "grade": false,
     "locked": true,
     "solution": false
    }
   },
   "source": [
    "Lastly, similar to <b><code>math.cos()</code></b> and <b><code>math.sin()</code></b>, <b><code>numpy</code></b> also has its mathematical functions, such as <b><code>np.cos()</code></b>, <b><code>np.sin()</code></b>, etc."
   ]
  },
  {
   "attachments": {},
   "cell_type": "markdown",
   "metadata": {},
   "source": [
    "# Example: Maximum bending moment on a simply supported bridge\n",
    "\n",
    "A 12 m span bridge is modelled as 1D continuous simply supported beam. The bridge is subjected to the axle loads ($A$) of 3-axle vehicle, as shown in the figure bellow. The largest axle load will generally cause the maximum bending bending moment ($M_{max}$) under its location $p$.\n",
    "\n",
    "<p><img src=\"https://raw.githubusercontent.com/mike-mendoza/Bivariate_NPBN_workshop_files/main/files_pyhton_book_test/Bridge.png\" alt=\"\" style=\"display: block; margin-left: auto; margin-right: auto;\" width=\"500\" height=\"330\" /></p>\n",
    "\n",
    "\n",
    "For this particular vehicle characteristics, i.e., $A_1 \\leq A_3 \\leq A_2$ and $ D_2 \\leq D_1 \\leq a$. $M_{max}$ can be computed as follows:\n",
    " \n",
    "\n",
    "$M_{max} =  R_1 a-A_1D_1$\n",
    "\n",
    "$R_1 = \\frac{\\left ( \\sum_{i=1}^{3}A_i \\right )a}{L}, \\; i=\\{1,2,3\\}$\n",
    "\n",
    "where $R_1$ is the reaction at the left side of the beam, $L$ the total span length, $A_i$ is the individual axle load $i$ and $D_i$ corresponds to the inter-axle distance $i$\n",
    "\n",
    "For this example, we will use a sample of 100 vehicles corresponding to the 3-axle vehicle type _3C_. The measurements were taken by the Weigh-in-Motion (WIM) system on the federal highway BR-101, located in the south of Brazil, in April 2014. The data collected through WIM system includes type of vehicle, individual axle loads and individual inter-axle distances.  \n",
    "\n",
    "We will determine: \n",
    "* The mean value of $M_{max}$ at the point $p$ of the beam.\n",
    "* The characteristics of the vehicle that cause the minimum $M_{max}$ at the point $p$ of the beam.  \n",
    "* The characteristics of the vehicle that cause the maximum $M_{max}$ at the point $p$ of the beam.  \n",
    "\n",
    "To load the data set with numpy we use ``np.loadtxt()`` using the parameters ``delimiter=\",\"`` to define the character used to separate the values and ``skiprows=1`` to skip the first line."
   ]
  },
  {
   "cell_type": "code",
   "execution_count": 35,
   "metadata": {},
   "outputs": [
    {
     "name": "stdout",
     "output_type": "stream",
     "text": [
      "Do the characteristics of all vehicles meet the requirements?\n",
      "A2>A3 True\n",
      "A2>A1 True\n",
      "A3>A2 True\n",
      "a>D1 True\n",
      "D1>D2 True \n",
      "\n",
      "The mean maximum bending moment is 328.88kNm \n",
      "\n",
      "The vehicle that causes the min bending moment of 133.73 kNm is the vehicle number 15\n",
      "With axle loads: [24.9 39.3 27.2] in kN\n",
      "and inter-axle distances: [5.9 1.2] in m \n",
      "\n",
      "The vehicle that causes the max bending moment of 582.44 kNm is the vehicle number 48\n",
      "With axle loads: [ 62.5 117.7 107.2] in kN\n",
      "and inter-axle distances: [4.8 1.2] in m \n",
      "\n"
     ]
    }
   ],
   "source": [
    "import numpy as np\n",
    "\n",
    "# We start by defining the span length (l), the distance a and loading the data set. \n",
    "l = 12      # m\n",
    "a = 6.07    # m\n",
    "\n",
    "\n",
    "data = np.loadtxt(\"https://raw.githubusercontent.com/mike-mendoza/Bivariate_NPBN_workshop_files/a991bc3d9391a92437af1c3d69ae9fdfe6baf6da/files_pyhton_book_test/V3AX_WIM_BR.csv\",\n",
    "                 delimiter=\",\",skiprows=1)\n",
    "\n",
    "\n",
    "#The first 3 columns correspond to the axle loads and the remaining columns to the inter-axle distances. \n",
    "#the data units are kN for the axle loads and m for the inter-axle distances\n",
    "\n",
    "axle_loads = data[:,0:3] #in kN\n",
    "inter_axle_distances  = data[:,3:5] # in m\n",
    "\n",
    "# check if all vehicles meet the requirements: \n",
    "# np.all() Test whether all array elements along a given axis evaluate to True\n",
    "\n",
    "print('Do the characteristics of all vehicles meet the requirements?')\n",
    "print('A2>A3', np.all(axle_loads[:,1]>axle_loads[:,2]))  #A2>A3\n",
    "print('A2>A1', np.all(axle_loads[:,1]>axle_loads[:,0]))  #A2>A1\n",
    "print('A3>A2', np.all(axle_loads[:,2]>axle_loads[:,0]))  #A3>A2\n",
    "print('a>D1', np.all(a>inter_axle_distances[:,0]))  #a>D1\n",
    "print('D1>D2', np.all(inter_axle_distances[:,0]>inter_axle_distances[:,1]),'\\n')  #D1>D2\n",
    "\n",
    "\n",
    "# reaction at the left side of the beam.\n",
    "r_1 = (np.sum(axle_loads, axis=1)*a)/l\n",
    "\n",
    "#Maximum bending bending moments caused for all vehicles at the point $p$ of the beam\n",
    "m_max = r_1*a-axle_loads[:,0]*inter_axle_distances[:,0]\n",
    "\n",
    "#The mean value\n",
    "mean_m_max = np.mean(m_max)\n",
    "\n",
    "print(f'The mean maximum bending moment is {mean_m_max:.2f}kNm \\n')\n",
    "\n",
    "#The minimum and maximum bending moments  \n",
    "min_m_max = np.min(m_max)\n",
    "max_m_max = np.max(m_max)\n",
    "\n",
    "#Find the index of where the min and max values are located\n",
    "idx_min_m_max = np.argmin(m_max) \n",
    "idx_max_m_max = np.argmax(m_max) \n",
    "\n",
    "#Get the characteristics of the vehicles\n",
    "vehicle_min_m_max = data[idx_min_m_max] \n",
    "vehicle_max_m_max = data[idx_max_m_max]\n",
    "\n",
    "print(f'The vehicle that causes the min bending moment of {min_m_max:.2f} kNm is the vehicle number {idx_min_m_max}\\n'\n",
    "      f'With axle loads: {vehicle_min_m_max[0:3]} in kN\\n'\n",
    "      f'and inter-axle distances: {vehicle_min_m_max[3:5]} in m \\n')\n",
    "\n",
    "print(f'The vehicle that causes the max bending moment of {max_m_max:.2f} kNm is the vehicle number {idx_max_m_max}\\n'\n",
    "      f'With axle loads: {vehicle_max_m_max[0:3]} in kN\\n'\n",
    "      f'and inter-axle distances: {vehicle_max_m_max[3:5]} in m \\n')"
   ]
  },
  {
   "attachments": {},
   "cell_type": "markdown",
   "metadata": {},
   "source": [
    "# Exercise: The biggest truck\n",
    "\n",
    "Get the largest element of each column of the WIM sample provided above to create the synthetic vehicle _3C Magnus_. Using the same dimensions of the previous described bridge answer the following questions: \n"
   ]
  },
  {
   "cell_type": "code",
   "execution_count": 34,
   "metadata": {
    "tags": [
     "remove-input"
    ]
   },
   "outputs": [
    {
     "data": {
      "text/html": [
       "<div id=\"MmwQPvuPkJrT\" data-shufflequestions=\"False\"\n",
       "               data-shuffleanswers=\"True\"\n",
       "               data-preserveresponses=\"false\"\n",
       "               data-numquestions=\"1000000\"> <style>:root {\n",
       "    --medium-slate-blue: #6f78ffff;\n",
       "    --orange-pantone: #f75c03ff;\n",
       "    --russian-violet: #392061ff;\n",
       "    --maximum-yellow-red: #ffc857ff;\n",
       "    --viridian-green: #119da4ff;\n",
       "    --incorrect-red: #c80202;\n",
       "    --correct-green: #009113;\n",
       "}\n",
       "\n",
       ".Quiz {\n",
       "    max-width: 600px;\n",
       "    margin-top: 15px;\n",
       "    margin-left: auto;\n",
       "    margin-right: auto;\n",
       "    margin-bottom: 15px;\n",
       "    padding-bottom: 4px;\n",
       "    padding-top: 4px;\n",
       "    line-height: 1.1;\n",
       "    font-size: 16pt;\n",
       "}\n",
       "\n",
       ".QuizCode {\n",
       "    font-size: 14pt;\n",
       "    margin-top: 10px;\n",
       "    margin-left: 20px;\n",
       "    margin-right: 20px;\n",
       "}\n",
       "\n",
       ".QuizCode>pre {\n",
       "    padding: 4px;\n",
       "}\n",
       "\n",
       ".Answer {\n",
       "    margin: 10px 0;\n",
       "    display: grid;\n",
       "    grid-template-columns: auto auto;\n",
       "    grid-gap: 10px;\n",
       "}\n",
       "\n",
       ".Feedback {\n",
       "    font-size: 16pt;\n",
       "    text-align: center;\n",
       "    min-height: 2em;\n",
       "}\n",
       "\n",
       ".Input {\n",
       "    align: left;\n",
       "    font-size: 20pt;\n",
       "}\n",
       "\n",
       ".Input-text {\n",
       "    display: block;\n",
       "    margin: 10px;\n",
       "    color: inherit;\n",
       "    width: 140px;\n",
       "    background-color: #c0c0c0;\n",
       "    color: #fff;\n",
       "    padding: 5px;\n",
       "    padding-left: 10px;\n",
       "    font-family: inherit;\n",
       "    font-size: 20px;\n",
       "    font-weight: inherit;\n",
       "    line-height: 20pt;\n",
       "    border: none;\n",
       "    border-radius: 0.2rem;\n",
       "    transition: box-shadow 0.1s);\n",
       "}\n",
       "\n",
       ".Input-text:focus {\n",
       "    outline: none;\n",
       "    background-color: #c0c0c0;\n",
       "    box-shadow: 0.6rem 0.8rem 1.4rem -0.5rem #999999;\n",
       "}\n",
       "\n",
       ".MCButton {\n",
       "    background: #fafafa;\n",
       "    border: 1px solid #eee;\n",
       "    border-radius: 10px;\n",
       "    padding: 10px;\n",
       "    font-size: 16px;\n",
       "    cursor: pointer;\n",
       "    text-align: center;\n",
       "}\n",
       "\n",
       ".MCButton p {\n",
       "    color: inherit;\n",
       "}\n",
       "\n",
       ".MultipleChoiceQn {\n",
       "    padding: 10px;\n",
       "    background: var(--medium-slate-blue);\n",
       "    color: #fafafa;\n",
       "    border-radius: 10px;\n",
       "}\n",
       "\n",
       ".ManyChoiceQn {\n",
       "    padding: 10px;\n",
       "    background: var(--orange-pantone);\n",
       "    color: #fafafa;\n",
       "    border-radius: 10px;\n",
       "}\n",
       "\n",
       ".NumericQn {\n",
       "    padding: 10px;\n",
       "    background: var(--russian-violet);\n",
       "    color: #fafafa;\n",
       "    border-radius: 10px;\n",
       "}\n",
       "\n",
       ".NumericQn p {\n",
       "    color: inherit;\n",
       "}\n",
       "\n",
       ".InpLabel {\n",
       "    line-height: 34px;\n",
       "    float: left;\n",
       "    margin-right: 10px;\n",
       "    color: #101010;\n",
       "    font-size: 15pt;\n",
       "}\n",
       "\n",
       ".incorrect {\n",
       "    color: var(--incorrect-red);\n",
       "}\n",
       "\n",
       ".correct {\n",
       "    color: var(--correct-green);\n",
       "}\n",
       "\n",
       ".correctButton {\n",
       "    /*\n",
       "    background: var(--correct-green);\n",
       "   */\n",
       "    animation: correct-anim 0.6s ease;\n",
       "    animation-fill-mode: forwards;\n",
       "    color: #fafafa;\n",
       "    box-shadow: inset 0px 0px 5px #555555;\n",
       "    outline: none;\n",
       "}\n",
       "\n",
       ".incorrectButton {\n",
       "    animation: incorrect-anim 0.8s ease;\n",
       "    animation-fill-mode: forwards;\n",
       "    color: #fafafa;\n",
       "    box-shadow: inset 0px 0px 5px #555555;\n",
       "    outline: none;\n",
       "}\n",
       "\n",
       "@keyframes incorrect-anim {\n",
       "    100% {\n",
       "        background-color: var(--incorrect-red);\n",
       "    }\n",
       "}\n",
       "\n",
       "@keyframes correct-anim {\n",
       "    100% {\n",
       "        background-color: var(--correct-green);\n",
       "    }\n",
       "}</style>"
      ],
      "text/plain": [
       "<IPython.core.display.HTML object>"
      ]
     },
     "metadata": {},
     "output_type": "display_data"
    },
    {
     "data": {
      "application/javascript": "var questionsMmwQPvuPkJrT=[\n    {\n        \"question\": \"What is the value of last axle load $A_3$ of the Maximum truck? Please round the answer to one decimal place.\",\n        \"type\": \"numeric\",\n        \"precision\": 3,\n        \"answers\": [\n            {\n                \"type\": \"value\",\n                \"value\": 107.2,\n                \"correct\": true,\n                \"feedback\": \"Correct.\"\n            }\n        ]\n    },\n    {\n        \"question\": \"What is the value of the bending momment at the point $p$ of the beam caused by the Maximum truck? Please round the answer to one decimal place.\",\n        \"type\": \"numeric\",\n        \"precision\": 3,\n        \"answers\": [\n            {\n                \"type\": \"value\",\n                \"value\": 486.9,\n                \"correct\": true,\n                \"feedback\": \"Correct.\"\n            }\n        ]\n    }\n];\n    // Make a random ID\nfunction makeid(length) {\n    var result = [];\n    var characters = 'ABCDEFGHIJKLMNOPQRSTUVWXYZabcdefghijklmnopqrstuvwxyz';\n    var charactersLength = characters.length;\n    for (var i = 0; i < length; i++) {\n        result.push(characters.charAt(Math.floor(Math.random() * charactersLength)));\n    }\n    return result.join('');\n}\n\n// Choose a random subset of an array. Can also be used to shuffle the array\nfunction getRandomSubarray(arr, size) {\n    var shuffled = arr.slice(0), i = arr.length, temp, index;\n    while (i--) {\n        index = Math.floor((i + 1) * Math.random());\n        temp = shuffled[index];\n        shuffled[index] = shuffled[i];\n        shuffled[i] = temp;\n    }\n    return shuffled.slice(0, size);\n}\n\nfunction printResponses(responsesContainer) {\n    var responses=JSON.parse(responsesContainer.dataset.responses);\n    var stringResponses='<B>IMPORTANT!</B>To preserve this answer sequence for submission, when you have finalized your answers: <ol> <li> Copy the text in this cell below \"Answer String\"</li> <li> Double click on the cell directly below the Answer String, labeled \"Replace Me\"</li> <li> Select the whole \"Replace Me\" text</li> <li> Paste in your answer string and press shift-Enter.</li><li>Save the notebook using the save icon or File->Save Notebook menu item</li></ul><br><br><br><b>Answer String:</b><br> ';\n    console.log(responses);\n    responses.forEach((response, index) => {\n        if (response) {\n            console.log(index + ': ' + response);\n            stringResponses+= index + ': ' + response +\"<BR>\";\n        }\n    });\n    responsesContainer.innerHTML=stringResponses;\n}\nfunction check_mc() {\n    var id = this.id.split('-')[0];\n    //var response = this.id.split('-')[1];\n    //console.log(response);\n    //console.log(\"In check_mc(), id=\"+id);\n    //console.log(event.srcElement.id)           \n    //console.log(event.srcElement.dataset.correct)   \n    //console.log(event.srcElement.dataset.feedback)\n\n    var label = event.srcElement;\n    //console.log(label, label.nodeName);\n    var depth = 0;\n    while ((label.nodeName != \"LABEL\") && (depth < 20)) {\n        label = label.parentElement;\n        console.log(depth, label);\n        depth++;\n    }\n\n\n\n    var answers = label.parentElement.children;\n\n    //console.log(answers);\n\n\n    // Split behavior based on multiple choice vs many choice:\n    var fb = document.getElementById(\"fb\" + id);\n\n\n\n\n    if (fb.dataset.numcorrect == 1) {\n        // What follows is for the saved responses stuff\n        var outerContainer = fb.parentElement.parentElement;\n        var responsesContainer = document.getElementById(\"responses\" + outerContainer.id);\n        if (responsesContainer) {\n            //console.log(responsesContainer);\n            var response = label.firstChild.innerText;\n            if (label.querySelector(\".QuizCode\")){\n                response+= label.querySelector(\".QuizCode\").firstChild.innerText;\n            }\n            console.log(response);\n            //console.log(document.getElementById(\"quizWrap\"+id));\n            var qnum = document.getElementById(\"quizWrap\"+id).dataset.qnum;\n            console.log(\"Question \" + qnum);\n            //console.log(id, \", got numcorrect=\",fb.dataset.numcorrect);\n            var responses=JSON.parse(responsesContainer.dataset.responses);\n            console.log(responses);\n            responses[qnum]= response;\n            responsesContainer.setAttribute('data-responses', JSON.stringify(responses));\n            printResponses(responsesContainer);\n        }\n        // End code to preserve responses\n        \n        for (var i = 0; i < answers.length; i++) {\n            var child = answers[i];\n            //console.log(child);\n            child.className = \"MCButton\";\n        }\n\n\n\n        if (label.dataset.correct == \"true\") {\n            // console.log(\"Correct action\");\n            if (\"feedback\" in label.dataset) {\n                fb.textContent = jaxify(label.dataset.feedback);\n            } else {\n                fb.textContent = \"Correct!\";\n            }\n            label.classList.add(\"correctButton\");\n\n            fb.className = \"Feedback\";\n            fb.classList.add(\"correct\");\n\n        } else {\n            if (\"feedback\" in label.dataset) {\n                fb.textContent = jaxify(label.dataset.feedback);\n            } else {\n                fb.textContent = \"Incorrect -- try again.\";\n            }\n            //console.log(\"Error action\");\n            label.classList.add(\"incorrectButton\");\n            fb.className = \"Feedback\";\n            fb.classList.add(\"incorrect\");\n        }\n    }\n    else {\n        var reset = false;\n        var feedback;\n         if (label.dataset.correct == \"true\") {\n            if (\"feedback\" in label.dataset) {\n                feedback = jaxify(label.dataset.feedback);\n            } else {\n                feedback = \"Correct!\";\n            }\n            if (label.dataset.answered <= 0) {\n                if (fb.dataset.answeredcorrect < 0) {\n                    fb.dataset.answeredcorrect = 1;\n                    reset = true;\n                } else {\n                    fb.dataset.answeredcorrect++;\n                }\n                if (reset) {\n                    for (var i = 0; i < answers.length; i++) {\n                        var child = answers[i];\n                        child.className = \"MCButton\";\n                        child.dataset.answered = 0;\n                    }\n                }\n                label.classList.add(\"correctButton\");\n                label.dataset.answered = 1;\n                fb.className = \"Feedback\";\n                fb.classList.add(\"correct\");\n\n            }\n        } else {\n            if (\"feedback\" in label.dataset) {\n                feedback = jaxify(label.dataset.feedback);\n            } else {\n                feedback = \"Incorrect -- try again.\";\n            }\n            if (fb.dataset.answeredcorrect > 0) {\n                fb.dataset.answeredcorrect = -1;\n                reset = true;\n            } else {\n                fb.dataset.answeredcorrect--;\n            }\n\n            if (reset) {\n                for (var i = 0; i < answers.length; i++) {\n                    var child = answers[i];\n                    child.className = \"MCButton\";\n                    child.dataset.answered = 0;\n                }\n            }\n            label.classList.add(\"incorrectButton\");\n            fb.className = \"Feedback\";\n            fb.classList.add(\"incorrect\");\n        }\n        // What follows is for the saved responses stuff\n        var outerContainer = fb.parentElement.parentElement;\n        var responsesContainer = document.getElementById(\"responses\" + outerContainer.id);\n        if (responsesContainer) {\n            //console.log(responsesContainer);\n            var response = label.firstChild.innerText;\n            if (label.querySelector(\".QuizCode\")){\n                response+= label.querySelector(\".QuizCode\").firstChild.innerText;\n            }\n            console.log(response);\n            //console.log(document.getElementById(\"quizWrap\"+id));\n            var qnum = document.getElementById(\"quizWrap\"+id).dataset.qnum;\n            console.log(\"Question \" + qnum);\n            //console.log(id, \", got numcorrect=\",fb.dataset.numcorrect);\n            var responses=JSON.parse(responsesContainer.dataset.responses);\n            if (label.dataset.correct == \"true\") {\n                if (typeof(responses[qnum]) == \"object\"){\n                    if (!responses[qnum].includes(response))\n                        responses[qnum].push(response);\n                } else{\n                    responses[qnum]= [ response ];\n                }\n            } else {\n                responses[qnum]= response;\n            }\n            console.log(responses);\n            responsesContainer.setAttribute('data-responses', JSON.stringify(responses));\n            printResponses(responsesContainer);\n        }\n        // End save responses stuff\n\n\n\n        var numcorrect = fb.dataset.numcorrect;\n        var answeredcorrect = fb.dataset.answeredcorrect;\n        if (answeredcorrect >= 0) {\n            fb.textContent = feedback + \" [\" + answeredcorrect + \"/\" + numcorrect + \"]\";\n        } else {\n            fb.textContent = feedback + \" [\" + 0 + \"/\" + numcorrect + \"]\";\n        }\n\n\n    }\n\n    if (typeof MathJax != 'undefined') {\n        var version = MathJax.version;\n        console.log('MathJax version', version);\n        if (version[0] == \"2\") {\n            MathJax.Hub.Queue([\"Typeset\", MathJax.Hub]);\n        } else if (version[0] == \"3\") {\n            MathJax.typeset([fb]);\n        }\n    } else {\n        console.log('MathJax not detected');\n    }\n\n}\n\nfunction make_mc(qa, shuffle_answers, outerqDiv, qDiv, aDiv, id) {\n    var shuffled;\n    if (shuffle_answers == \"True\") {\n        //console.log(shuffle_answers+\" read as true\");\n        shuffled = getRandomSubarray(qa.answers, qa.answers.length);\n    } else {\n        //console.log(shuffle_answers+\" read as false\");\n        shuffled = qa.answers;\n    }\n\n\n    var num_correct = 0;\n\n\n\n    shuffled.forEach((item, index, ans_array) => {\n        //console.log(answer);\n\n        // Make input element\n        var inp = document.createElement(\"input\");\n        inp.type = \"radio\";\n        inp.id = \"quizo\" + id + index;\n        inp.style = \"display:none;\";\n        aDiv.append(inp);\n\n        //Make label for input element\n        var lab = document.createElement(\"label\");\n        lab.className = \"MCButton\";\n        lab.id = id + '-' + index;\n        lab.onclick = check_mc;\n        var aSpan = document.createElement('span');\n        aSpan.classsName = \"\";\n        //qDiv.id=\"quizQn\"+id+index;\n        if (\"answer\" in item) {\n            aSpan.innerHTML = jaxify(item.answer);\n            //aSpan.innerHTML=item.answer;\n        }\n        lab.append(aSpan);\n\n        // Create div for code inside question\n        var codeSpan;\n        if (\"code\" in item) {\n            codeSpan = document.createElement('span');\n            codeSpan.id = \"code\" + id + index;\n            codeSpan.className = \"QuizCode\";\n            var codePre = document.createElement('pre');\n            codeSpan.append(codePre);\n            var codeCode = document.createElement('code');\n            codePre.append(codeCode);\n            codeCode.innerHTML = item.code;\n            lab.append(codeSpan);\n            //console.log(codeSpan);\n        }\n\n        //lab.textContent=item.answer;\n\n        // Set the data attributes for the answer\n        lab.setAttribute('data-correct', item.correct);\n        if (item.correct) {\n            num_correct++;\n        }\n        if (\"feedback\" in item) {\n            lab.setAttribute('data-feedback', item.feedback);\n        }\n        lab.setAttribute('data-answered', 0);\n\n        aDiv.append(lab);\n\n    });\n\n    if (num_correct > 1) {\n        outerqDiv.className = \"ManyChoiceQn\";\n    } else {\n        outerqDiv.className = \"MultipleChoiceQn\";\n    }\n\n    return num_correct;\n\n}\nfunction check_numeric(ths, event) {\n\n    if (event.keyCode === 13) {\n        ths.blur();\n\n        var id = ths.id.split('-')[0];\n\n        var submission = ths.value;\n        if (submission.indexOf('/') != -1) {\n            var sub_parts = submission.split('/');\n            //console.log(sub_parts);\n            submission = sub_parts[0] / sub_parts[1];\n        }\n        //console.log(\"Reader entered\", submission);\n\n        if (\"precision\" in ths.dataset) {\n            var precision = ths.dataset.precision;\n            // console.log(\"1:\", submission)\n            submission = Math.round((1 * submission + Number.EPSILON) * 10 ** precision) / 10 ** precision;\n            // console.log(\"Rounded to \", submission, \" precision=\", precision  );\n        }\n\n\n        //console.log(\"In check_numeric(), id=\"+id);\n        //console.log(event.srcElement.id)           \n        //console.log(event.srcElement.dataset.feedback)\n\n        var fb = document.getElementById(\"fb\" + id);\n        fb.style.display = \"none\";\n        fb.textContent = \"Incorrect -- try again.\";\n\n        var answers = JSON.parse(ths.dataset.answers);\n        //console.log(answers);\n\n        var defaultFB = \"\";\n        var correct;\n        var done = false;\n        answers.every(answer => {\n            //console.log(answer.type);\n\n            correct = false;\n            // if (answer.type==\"value\"){\n            if ('value' in answer) {\n                if (submission == answer.value) {\n                    fb.textContent = jaxify(answer.feedback);\n                    correct = answer.correct;\n                    //console.log(answer.correct);\n                    done = true;\n                }\n                // } else if (answer.type==\"range\") {\n            } else if ('range' in answer) {\n                //console.log(answer.range);\n                if ((submission >= answer.range[0]) && (submission < answer.range[1])) {\n                    fb.textContent = jaxify(answer.feedback);\n                    correct = answer.correct;\n                    //console.log(answer.correct);\n                    done = true;\n                }\n            } else if (answer.type == \"default\") {\n                defaultFB = answer.feedback;\n            }\n            if (done) {\n                return false; // Break out of loop if this has been marked correct\n            } else {\n                return true; // Keep looking for case that includes this as a correct answer\n            }\n        });\n\n        if ((!done) && (defaultFB != \"\")) {\n            fb.innerHTML = jaxify(defaultFB);\n            //console.log(\"Default feedback\", defaultFB);\n        }\n\n        fb.style.display = \"block\";\n        if (correct) {\n            ths.className = \"Input-text\";\n            ths.classList.add(\"correctButton\");\n            fb.className = \"Feedback\";\n            fb.classList.add(\"correct\");\n        } else {\n            ths.className = \"Input-text\";\n            ths.classList.add(\"incorrectButton\");\n            fb.className = \"Feedback\";\n            fb.classList.add(\"incorrect\");\n        }\n\n        // What follows is for the saved responses stuff\n        var outerContainer = fb.parentElement.parentElement;\n        var responsesContainer = document.getElementById(\"responses\" + outerContainer.id);\n        if (responsesContainer) {\n            console.log(submission);\n            var qnum = document.getElementById(\"quizWrap\"+id).dataset.qnum;\n            //console.log(\"Question \" + qnum);\n            //console.log(id, \", got numcorrect=\",fb.dataset.numcorrect);\n            var responses=JSON.parse(responsesContainer.dataset.responses);\n            console.log(responses);\n            if (submission == ths.value){\n                responses[qnum]= submission;\n            } else {\n                responses[qnum]= ths.value + \"(\" + submission +\")\";\n            }\n            responsesContainer.setAttribute('data-responses', JSON.stringify(responses));\n            printResponses(responsesContainer);\n        }\n        // End code to preserve responses\n\n        if (typeof MathJax != 'undefined') {\n            var version = MathJax.version;\n            console.log('MathJax version', version);\n            if (version[0] == \"2\") {\n                MathJax.Hub.Queue([\"Typeset\", MathJax.Hub]);\n            } else if (version[0] == \"3\") {\n                MathJax.typeset([fb]);\n            }\n        } else {\n            console.log('MathJax not detected');\n        }\n        return false;\n    }\n\n}\n\nfunction isValid(el, charC) {\n    //console.log(\"Input char: \", charC);\n    if (charC == 46) {\n        if (el.value.indexOf('.') === -1) {\n            return true;\n        } else if (el.value.indexOf('/') != -1) {\n            var parts = el.value.split('/');\n            if (parts[1].indexOf('.') === -1) {\n                return true;\n            }\n        }\n        else {\n            return false;\n        }\n    } else if (charC == 47) {\n        if (el.value.indexOf('/') === -1) {\n            if ((el.value != \"\") && (el.value != \".\")) {\n                return true;\n            } else {\n                return false;\n            }\n        } else {\n            return false;\n        }\n    } else if (charC == 45) {\n        var edex = el.value.indexOf('e');\n        if (edex == -1) {\n            edex = el.value.indexOf('E');\n        }\n\n        if (el.value == \"\") {\n            return true;\n        } else if (edex == (el.value.length - 1)) { // If just after e or E\n            return true;\n        } else {\n            return false;\n        }\n    } else if (charC == 101) { // \"e\"\n        if ((el.value.indexOf('e') === -1) && (el.value.indexOf('E') === -1) && (el.value.indexOf('/') == -1)) {\n            // Prev symbol must be digit or decimal point:\n            if (el.value.slice(-1).search(/\\d/) >= 0) {\n                return true;\n            } else if (el.value.slice(-1).search(/\\./) >= 0) {\n                return true;\n            } else {\n                return false;\n            }\n        } else {\n            return false;\n        }\n    } else {\n        if (charC > 31 && (charC < 48 || charC > 57))\n            return false;\n    }\n    return true;\n}\n\nfunction numeric_keypress(evnt) {\n    var charC = (evnt.which) ? evnt.which : evnt.keyCode;\n\n    if (charC == 13) {\n        check_numeric(this, evnt);\n    } else {\n        return isValid(this, charC);\n    }\n}\n\n\n\n\n\nfunction make_numeric(qa, outerqDiv, qDiv, aDiv, id) {\n\n\n\n    //console.log(answer);\n\n\n    outerqDiv.className = \"NumericQn\";\n    aDiv.style.display = 'block';\n\n    var lab = document.createElement(\"label\");\n    lab.className = \"InpLabel\";\n    lab.textContent = \"Type numeric answer here:\";\n    aDiv.append(lab);\n\n    var inp = document.createElement(\"input\");\n    inp.type = \"text\";\n    //inp.id=\"input-\"+id;\n    inp.id = id + \"-0\";\n    inp.className = \"Input-text\";\n    inp.setAttribute('data-answers', JSON.stringify(qa.answers));\n    if (\"precision\" in qa) {\n        inp.setAttribute('data-precision', qa.precision);\n    }\n    aDiv.append(inp);\n    //console.log(inp);\n\n    //inp.addEventListener(\"keypress\", check_numeric);\n    //inp.addEventListener(\"keypress\", numeric_keypress);\n    /*\n    inp.addEventListener(\"keypress\", function(event) {\n        return numeric_keypress(this, event);\n    }\n                        );\n                        */\n    //inp.onkeypress=\"return numeric_keypress(this, event)\";\n    inp.onkeypress = numeric_keypress;\n    inp.onpaste = event => false;\n\n    inp.addEventListener(\"focus\", function (event) {\n        this.value = \"\";\n        return false;\n    }\n    );\n\n\n}\nfunction jaxify(string) {\n    var mystring = string;\n\n    var count = 0;\n    var loc = mystring.search(/([^\\\\]|^)(\\$)/);\n\n    var count2 = 0;\n    var loc2 = mystring.search(/([^\\\\]|^)(\\$\\$)/);\n\n    //console.log(loc);\n\n    while ((loc >= 0) || (loc2 >= 0)) {\n\n        /* Have to replace all the double $$ first with current implementation */\n        if (loc2 >= 0) {\n            if (count2 % 2 == 0) {\n                mystring = mystring.replace(/([^\\\\]|^)(\\$\\$)/, \"$1\\\\[\");\n            } else {\n                mystring = mystring.replace(/([^\\\\]|^)(\\$\\$)/, \"$1\\\\]\");\n            }\n            count2++;\n        } else {\n            if (count % 2 == 0) {\n                mystring = mystring.replace(/([^\\\\]|^)(\\$)/, \"$1\\\\(\");\n            } else {\n                mystring = mystring.replace(/([^\\\\]|^)(\\$)/, \"$1\\\\)\");\n            }\n            count++;\n        }\n        loc = mystring.search(/([^\\\\]|^)(\\$)/);\n        loc2 = mystring.search(/([^\\\\]|^)(\\$\\$)/);\n        //console.log(mystring,\", loc:\",loc,\", loc2:\",loc2);\n    }\n\n    //console.log(mystring);\n    return mystring;\n}\n\n\nfunction show_questions(json, mydiv) {\n    console.log('show_questions');\n    //var mydiv=document.getElementById(myid);\n    var shuffle_questions = mydiv.dataset.shufflequestions;\n    var num_questions = mydiv.dataset.numquestions;\n    var shuffle_answers = mydiv.dataset.shuffleanswers;\n\n    if (num_questions > json.length) {\n        num_questions = json.length;\n    }\n\n    var questions;\n    if ((num_questions < json.length) || (shuffle_questions == \"True\")) {\n        //console.log(num_questions+\",\"+json.length);\n        questions = getRandomSubarray(json, num_questions);\n    } else {\n        questions = json;\n    }\n\n    //console.log(\"SQ: \"+shuffle_questions+\", NQ: \" + num_questions + \", SA: \", shuffle_answers);\n\n    // Iterate over questions\n    questions.forEach((qa, index, array) => {\n        //console.log(qa.question); \n\n        var id = makeid(8);\n        //console.log(id);\n\n\n        // Create Div to contain question and answers\n        var iDiv = document.createElement('div');\n        //iDiv.id = 'quizWrap' + id + index;\n        iDiv.id = 'quizWrap' + id;\n        iDiv.className = 'Quiz';\n        iDiv.setAttribute('data-qnum', index);\n        mydiv.appendChild(iDiv);\n        // iDiv.innerHTML=qa.question;\n\n        var outerqDiv = document.createElement('div');\n        outerqDiv.id = \"OuterquizQn\" + id + index;\n\n        iDiv.append(outerqDiv);\n\n        // Create div to contain question part\n        var qDiv = document.createElement('div');\n        qDiv.id = \"quizQn\" + id + index;\n        //qDiv.textContent=qa.question;\n        qDiv.innerHTML = jaxify(qa.question);\n\n        outerqDiv.append(qDiv);\n\n        // Create div for code inside question\n        var codeDiv;\n        if (\"code\" in qa) {\n            codeDiv = document.createElement('div');\n            codeDiv.id = \"code\" + id + index;\n            codeDiv.className = \"QuizCode\";\n            var codePre = document.createElement('pre');\n            codeDiv.append(codePre);\n            var codeCode = document.createElement('code');\n            codePre.append(codeCode);\n            codeCode.innerHTML = qa.code;\n            outerqDiv.append(codeDiv);\n            //console.log(codeDiv);\n        }\n\n\n        // Create div to contain answer part\n        var aDiv = document.createElement('div');\n        aDiv.id = \"quizAns\" + id + index;\n        aDiv.className = 'Answer';\n        iDiv.append(aDiv);\n\n        //console.log(qa.type);\n\n        var num_correct;\n        if (qa.type == \"multiple_choice\") {\n            num_correct = make_mc(qa, shuffle_answers, outerqDiv, qDiv, aDiv, id);\n        } else if (qa.type == \"many_choice\") {\n            num_correct = make_mc(qa, shuffle_answers, outerqDiv, qDiv, aDiv, id);\n        } else if (qa.type == \"numeric\") {\n            //console.log(\"numeric\");\n            make_numeric(qa, outerqDiv, qDiv, aDiv, id);\n        }\n\n\n        //Make div for feedback\n        var fb = document.createElement(\"div\");\n        fb.id = \"fb\" + id;\n        //fb.style=\"font-size: 20px;text-align:center;\";\n        fb.className = \"Feedback\";\n        fb.setAttribute(\"data-answeredcorrect\", 0);\n        fb.setAttribute(\"data-numcorrect\", num_correct);\n        iDiv.append(fb);\n\n\n    });\n    var preserveResponses = mydiv.dataset.preserveresponses;\n    console.log(preserveResponses);\n    console.log(preserveResponses == \"true\");\n    if (preserveResponses == \"true\") {\n        console.log(preserveResponses);\n        // Create Div to contain record of answers\n        var iDiv = document.createElement('div');\n        iDiv.id = 'responses' + mydiv.id;\n        iDiv.className = 'JCResponses';\n        // Create a place to store responses as an empty array\n        iDiv.setAttribute('data-responses', '[]');\n\n        // Dummy Text\n        iDiv.innerHTML=\"<b>Select your answers and then follow the directions that will appear here.</b>\"\n        //iDiv.className = 'Quiz';\n        mydiv.appendChild(iDiv);\n    }\n//console.log(\"At end of show_questions\");\n    if (typeof MathJax != 'undefined') {\n        console.log(\"MathJax version\", MathJax.version);\n        var version = MathJax.version;\n        setTimeout(function(){\n            var version = MathJax.version;\n            console.log('After sleep, MathJax version', version);\n            if (version[0] == \"2\") {\n                MathJax.Hub.Queue([\"Typeset\", MathJax.Hub]);\n            } else if (version[0] == \"3\") {\n                MathJax.typeset([mydiv]);\n            }\n        }, 500);\nif (typeof version == 'undefined') {\n        } else\n        {\n            if (version[0] == \"2\") {\n                MathJax.Hub.Queue([\"Typeset\", MathJax.Hub]);\n            } else if (version[0] == \"3\") {\n                MathJax.typeset([mydiv]);\n            } else {\n                console.log(\"MathJax not found\");\n            }\n        }\n    }\n    return false;\n}\n\n        {\n        show_questions(questionsMmwQPvuPkJrT,  MmwQPvuPkJrT);\n        }\n        ",
      "text/plain": [
       "<IPython.core.display.Javascript object>"
      ]
     },
     "metadata": {},
     "output_type": "display_data"
    }
   ],
   "source": [
    "\n",
    "from jupyterquiz import display_quiz\n",
    "\n",
    "display_quiz('quiz_5_1.json')\n"
   ]
  },
  {
   "cell_type": "code",
   "execution_count": 9,
   "metadata": {},
   "outputs": [
    {
     "name": "stdout",
     "output_type": "stream",
     "text": [
      "[ 74.  122.  107.2]\n",
      "[6.  1.4]\n",
      "486.9\n"
     ]
    }
   ],
   "source": [
    "max_truck = np.max(data,axis=0)\n",
    "axle_loads = max_truck[0:3]\n",
    "inter_axle_distances  = max_truck[3:5] #m\n",
    "\n",
    "resultant = np.sum(axle_loads)\n",
    "\n",
    "r_a = (resultant*a)/l\n",
    "\n",
    "m = r_a*a-axle_loads[0]*inter_axle_distances[0]\n",
    "print(axle_loads)\n",
    "print(inter_axle_distances)\n",
    "print(f'{round(m,1)}')\n",
    "\n"
   ]
  },
  {
   "attachments": {},
   "cell_type": "markdown",
   "metadata": {
    "nbgrader": {
     "grade": false,
     "locked": true,
     "solution": false
    }
   },
   "source": [
    "# After this Notebook \n",
    "\n",
    "You should be able to:\n",
    "\n",
    "- Construct N-dimensional arrays and matrices using `numpy`.\n",
    "- understand some of the important functions from `numpy`.\n"
   ]
  },
  {
   "cell_type": "markdown",
   "metadata": {},
   "source": []
  }
 ],
 "metadata": {
  "hide_input": false,
  "kernelspec": {
   "display_name": "Python 3",
   "language": "python",
   "name": "python3"
  },
  "language_info": {
   "codemirror_mode": {
    "name": "ipython",
    "version": 3
   },
   "file_extension": ".py",
   "mimetype": "text/x-python",
   "name": "python",
   "nbconvert_exporter": "python",
   "pygments_lexer": "ipython3",
   "version": "3.8.13"
  },
  "latex_envs": {
   "LaTeX_envs_menu_present": true,
   "autoclose": false,
   "autocomplete": true,
   "bibliofile": "biblio.bib",
   "cite_by": "apalike",
   "current_citInitial": 1,
   "eqLabelWithNumbers": true,
   "eqNumInitial": 1,
   "hotkeys": {
    "equation": "Ctrl-E",
    "itemize": "Ctrl-I"
   },
   "labels_anchors": false,
   "latex_user_defs": false,
   "report_style_numbering": false,
   "user_envs_cfg": false
  },
  "varInspector": {
   "cols": {
    "lenName": 16,
    "lenType": 16,
    "lenVar": 40
   },
   "kernels_config": {
    "python": {
     "delete_cmd_postfix": "",
     "delete_cmd_prefix": "del ",
     "library": "var_list.py",
     "varRefreshCmd": "print(var_dic_list())"
    },
    "r": {
     "delete_cmd_postfix": ") ",
     "delete_cmd_prefix": "rm(",
     "library": "var_list.r",
     "varRefreshCmd": "cat(var_dic_list()) "
    }
   },
   "types_to_exclude": [
    "module",
    "function",
    "builtin_function_or_method",
    "instance",
    "_Feature"
   ],
   "window_display": false
  }
 },
 "nbformat": 4,
 "nbformat_minor": 2
}
