{
 "cells": [
  {
   "attachments": {},
   "cell_type": "markdown",
   "metadata": {
    "nbgrader": {
     "grade": false,
     "locked": true,
     "solution": false
    }
   },
   "source": [
    "# Pandas Exercises\n",
    "## Exercise 6.2.1\n",
    "Finish a function, which with a <code>for</code> loop will get all types saved in series <code>my_series</code>\n",
    "\n",
    "_Type your code where the three (*`...`*) dots are placed. Do not change the name of the variables._"
   ]
  },
  {
   "cell_type": "code",
   "execution_count": 7,
   "metadata": {
    "collapsed": true
   },
   "outputs": [
    {
     "ename": "SyntaxError",
     "evalue": "invalid syntax (3710999273.py, line 8)",
     "output_type": "error",
     "traceback": [
      "\u001b[1;36m  Cell \u001b[1;32mIn[7], line 8\u001b[1;36m\u001b[0m\n\u001b[1;33m    for ...\u001b[0m\n\u001b[1;37m           ^\u001b[0m\n\u001b[1;31mSyntaxError\u001b[0m\u001b[1;31m:\u001b[0m invalid syntax\n"
     ]
    }
   ],
   "source": [
    "import pandas as pd\n",
    "\n",
    "my_list = ['begin', 2, 3/4, \"end\"]\n",
    "my_series = pd.Series(data=my_list)\n",
    "\n",
    "def list_types(series):\n",
    "    series_types = \"Types inside series:\\n\"\n",
    "    for ...\n",
    "        item_type = ...\n",
    "        series_types += str(item_type) + '\\n'\n",
    "    \n",
    "    return series_types\n",
    "        \n",
    "print(list_types(my_series))"
   ]
  },
  {
   "attachments": {},
   "cell_type": "markdown",
   "metadata": {},
   "source": [
    "````{admonition} check your answer!\n",
    "Run the cell bellow to check if you got the correct answer\n",
    "````"
   ]
  },
  {
   "cell_type": "code",
   "execution_count": 8,
   "metadata": {},
   "outputs": [
    {
     "name": "stdout",
     "output_type": "stream",
     "text": [
      "Correct answer :D\n"
     ]
    }
   ],
   "source": [
    "notebook_6_check_answer(0)"
   ]
  },
  {
   "attachments": {},
   "cell_type": "markdown",
   "metadata": {
    "nbgrader": {
     "grade": false,
     "locked": true,
     "solution": false
    }
   },
   "source": [
    "## (Searching) Exercise 6.3.1\n",
    "\n",
    "Complete the code below to print the total number of <i>'NaN'</i> values in <code>mineral_properties</code>\n",
    "\n",
    "_Change only the (*`...`*) below, do not add any other lines to this cell_\n",
    " "
   ]
  },
  {
   "cell_type": "code",
   "execution_count": 27,
   "metadata": {
    "collapsed": true
   },
   "outputs": [
    {
     "name": "stdout",
     "output_type": "stream",
     "text": [
      "        name  hardness  sp. gr. cleavage  new_column\n",
      "0  Amphibole      5.50     2.80      Two         NaN\n",
      "1    Biotite      2.75     3.00      One         NaN\n",
      "2    Calcite      3.00     2.72    Three         NaN\n",
      "\n",
      "total amount of nans = Ellipsis\n"
     ]
    }
   ],
   "source": [
    "import numpy as np\n",
    "import pandas as pd\n",
    "\n",
    "file_location = (\"https://raw.githubusercontent.com/TUDelft-CITG/\"\n",
    "                \"learn-python/mike/book/06/Theory/\")\n",
    "mineral_properties = pd.read_csv(file_location + 'mineral_properties.txt', \n",
    "                  skiprows=1,skipinitialspace=True)\n",
    "mineral_properties['new_column'] = np.nan\n",
    "\n",
    "def count_nans(df):\n",
    "    nan_total = ...\n",
    "    return nan_total\n",
    "\n",
    "print(mineral_properties.head(3))\n",
    "print(f'\\ntotal amount of nans = {count_nans(mineral_properties)}')"
   ]
  },
  {
   "attachments": {},
   "cell_type": "markdown",
   "metadata": {},
   "source": [
    "````{admonition} check your answer!\n",
    "Run the cell bellow to check if you got the correct answer\n",
    "````"
   ]
  },
  {
   "cell_type": "code",
   "execution_count": null,
   "metadata": {},
   "outputs": [],
   "source": [
    "notebook_6_check_answer(1)"
   ]
  },
  {
   "cell_type": "code",
   "execution_count": 37,
   "metadata": {},
   "outputs": [],
   "source": [
    "import pandas as pd\n",
    "\n",
    "def solution_6_2_1(series):\n",
    "    series_types = \"Types inside series:\\n\"\n",
    "    for i in range(len(series)):\n",
    "        item_type = type(series[i])\n",
    "        series_types += str(item_type) + '\\n'\n",
    "    return series_types\n",
    "\n",
    "def notebook_6_check_answer(question_number):\n",
    "\n",
    "    if question_number == 0:\n",
    "        my_list = ['begin', 2, 3/4, \"end\"]\n",
    "        my_series = pd.Series(data=my_list)\n",
    "        try: \n",
    "            assert list_types(\n",
    "                my_series) == solution_6_2_1(\n",
    "                my_series), '6.2.1 - Incorrect answer'\n",
    "            print('Correct answer :D')\n",
    "        except AssertionError:\n",
    "            print('Incorrect answer :(')\n",
    "\n",
    "    elif question_number == 1:\n",
    "        try: \n",
    "            assert count_nans(\n",
    "                mineral_properties) == 12,'Incorrect'\n",
    "            print('Correct answer :D')\n",
    "        except AssertionError:\n",
    "            print('Incorrect answer :(')\n",
    "\n",
    "    elif question_number == 2:\n",
    "        try: \n",
    "            assert count_minerals(\n",
    "                mineral_properties, 4) == 7, 'Incorrect'\n",
    "            print('Correct answer :D')\n",
    "        except AssertionError:\n",
    "            print('Incorrect answer :(')\n",
    "    \n",
    "    elif question_number == 3:\n",
    "        try: \n",
    "            assert get_abbreviation(   \n",
    "            ) == \"AES\", '3.4.1 - Incorrect answer'\n",
    "            print('Correct answer :D')\n",
    "        except AssertionError:\n",
    "            print('Incorrect answer :(')\n",
    "\n",
    "    elif question_number == 4:\n",
    "        try: \n",
    "            assert \"B[3] = 8\" in create_string_from_lists(\n",
    "            ), '3.4.2 - Incorrect answer'\n",
    "            print('Correct answer :D')\n",
    "        except AssertionError:\n",
    "            print('Incorrect answer :(')\n",
    "\n",
    "    elif question_number == 5:\n",
    "        try: \n",
    "            assert factorial(\n",
    "                5) == 120, '3.4.3 - Incorrect answer'\n",
    "            print('Correct answer :D')\n",
    "        except AssertionError:\n",
    "            print('Incorrect answer :(')"
   ]
  },
  {
   "attachments": {},
   "cell_type": "markdown",
   "metadata": {
    "nbgrader": {
     "grade": false,
     "locked": true,
     "solution": false
    }
   },
   "source": [
    "## (Searching/Fixing) Exercise 6.3.3\n",
    "\n",
    "A geologist wrote a line of code to know how many of the listed minerals have a hardness greater than or equal to $3$. However, something is not correct in his code... could you maybe fix it? There is a syntax error as well as a semantic error."
   ]
  },
  {
   "cell_type": "code",
   "execution_count": null,
   "metadata": {
    "collapsed": true
   },
   "outputs": [],
   "source": [
    "def count_minerals(df, minimal_hardness):\n",
    "    amount_of_minerals = len(df(df.hardness.gt(minimal_hardness)))\n",
    "    return amount_of_minerals\n",
    "             \n",
    "print(mineral_properties.head(3))\n",
    "print(f'Amount of minerals with hardness >= 3: {count_minerals(mineral_properties, 3)}')"
   ]
  },
  {
   "cell_type": "code",
   "execution_count": null,
   "metadata": {
    "collapsed": true,
    "nbgrader": {
     "grade": true,
     "grade_id": "Q6.3.3",
     "locked": true,
     "points": "1",
     "solution": false
    }
   },
   "outputs": [],
   "source": [
    "notebook_6_check_answer(2)"
   ]
  },
  {
   "attachments": {},
   "cell_type": "markdown",
   "metadata": {
    "nbgrader": {
     "grade": false,
     "locked": true,
     "solution": false
    }
   },
   "source": [
    "The above exercise might look like a silly one, but take some time to analyze it carefully... what is happening there? Break down each part of that line of code to understand it properly."
   ]
  },
  {
   "attachments": {},
   "cell_type": "markdown",
   "metadata": {
    "nbgrader": {
     "grade": false,
     "locked": true,
     "solution": false
    }
   },
   "source": [
    "## (Searching) Exercise 6.5.1\n",
    "\n",
    "A geologist is interested in the tallest mountain chains around Earth. For that, he created the <code>tallest_mountains.csv</code> table, containing information on all mountains above $8000$ meters. Your task is to do the following $5$ assignments.\n",
    "1. Read the <code>tallest_mountains.csv</code> file.\n",
    "2. What are the names of the columns?\n",
    "3. What is the height of the tallest mountain?\n",
    "4. What is the row number (or index) of this mountain?\n",
    "5. What is the name of the tallest mountain in the dataset?\n",
    "\n",
    "Use <code>pandas</code> functions to answer the questions.\n",
    "\n",
    "Source for this and next exercises: <a href=\"https://en.wikipedia.org/wiki/List_of_mountains_by_elevation\">Wikipedia"
   ]
  },
  {
   "attachments": {},
   "cell_type": "markdown",
   "metadata": {},
   "source": [
    "Write your code here, do not change any variable name\n"
   ]
  },
  {
   "cell_type": "code",
   "execution_count": null,
   "metadata": {
    "collapsed": true
   },
   "outputs": [],
   "source": [
    "file_location = (\"https://raw.githubusercontent.com/TUDelft-CITG/\"\n",
    "                \"learn-python/mike/book/06/Exercises/\")\n",
    "\n",
    "mountains_8000 = ... # 1) read the csv file\n",
    "cols = ... # 2) name of columns\n",
    "max_height = ... # 3) height of tallest mountain\n",
    "index_max = ... # 4) index of the row containing 'max_height'\n",
    "tallest_mountain = ... # 5) name of the tallest mountain\n",
    "\n",
    "###BEGIN SOLUTION TEMPLATE=\n",
    "mountains_8000 = pd.read_csv(file_location + 'tallest_mountains.csv')\n",
    "cols = mountains_8000.columns\n",
    "max_height = mountains_8000['Metres'].max() \n",
    "index_max = mountains_8000['Metres'].idxmax() \n",
    "tallest_mountain = mountains_8000.loc[index_max,'Mountain']\n",
    "###END SOLUTION\n",
    "\n",
    "print(mountains_8000.head())"
   ]
  },
  {
   "cell_type": "code",
   "execution_count": null,
   "metadata": {
    "collapsed": true,
    "nbgrader": {
     "grade": true,
     "grade_id": "Q6.5.1",
     "locked": true,
     "points": "1",
     "solution": false
    }
   },
   "outputs": [],
   "source": [
    "###BEGIN HIDDEN TESTS\n",
    "df_sol = pd.read_csv(file_location + 'tallest_mountains.csv')\n",
    "cols_sol = df_sol.columns\n",
    "max_height_sol = df_sol['Metres'].max() \n",
    "indxmax_sol = df_sol['Metres'].idxmax() \n",
    "tallest_mountain_sol = df_sol.loc[indxmax_sol,'Mountain']\n",
    "\n",
    "assert df_sol.equals(mountains_8000) and cols_sol.equals(cols) and max_height_sol == max_height and \\\n",
    "        indxmax_sol == index_max and tallest_mountain_sol == tallest_mountain, \\\n",
    "    '6.5.1 - Incorrect answer, did you use idxmax for the 4th problem?'\n",
    "###END HIDDEN TESTS"
   ]
  },
  {
   "attachments": {},
   "cell_type": "markdown",
   "metadata": {
    "nbgrader": {
     "grade": false,
     "locked": true,
     "solution": false
    }
   },
   "source": [
    "## (Searching) Exercise 6.5.2\n",
    "\n",
    "Now, our geologist friend got another table with all mountains above $7000$ meters, it's in the <code>mountains_above_7000m.csv</code> file. Your task is to do the following $6$ assignments.\n",
    "1. Read the <code>mountains_above_7000m.csv</code> file.\n",
    "2. Remove the column describing the mountain range they belong.\n",
    "3. Append <code>mountains_8000</code> to this.\n",
    "4. Fix the row-indexing issue.\n",
    "5. Create a <code>Series</code> indicating which entries of 'Feet' are missing.<br><i>Hint: Use the <code>.isnull()</code> function</i>\n",
    "6. Add the values that are missing in the 'Feet' column, use $1$ mtr = $3.28084$ feet.<br><i>Hint2: Use the <code>.mask()</code> function, more info <a href=\"https://pandas.pydata.org/docs/reference/api/pandas.DataFrame.mask.html\">here</a>, or the <code>.fillna()</code> function."
   ]
  },
  {
   "attachments": {},
   "cell_type": "markdown",
   "metadata": {},
   "source": [
    "Write your code for tasks 1,2 and 3 in teh cell below, do not change any variable name"
   ]
  },
  {
   "cell_type": "code",
   "execution_count": null,
   "metadata": {
    "collapsed": true
   },
   "outputs": [],
   "source": [
    "file_location = (\"https://raw.githubusercontent.com/TUDelft-CITG/\"\n",
    "                \"learn-python/mike/book/06/Exercises/\")\n",
    "\n",
    "mountains_7000 = ... # 1\n",
    "mountains_7000_norange = ... # 2\n",
    "df_concat = ... # 3\n",
    "\n",
    "print(df_concat)"
   ]
  },
  {
   "attachments": {},
   "cell_type": "markdown",
   "metadata": {},
   "source": [
    "Write your code for the remaining tasks in teh cell below, do not change any variable name"
   ]
  },
  {
   "cell_type": "code",
   "execution_count": null,
   "metadata": {
    "collapsed": true
   },
   "outputs": [],
   "source": [
    "\n",
    "df_reset = ... # 4\n",
    "missing_feet_series = ... # 5\n",
    "df_reset[\"Feet\"] = ... # 6\n",
    "print(df_reset) \n",
    "\n",
    "###BEGIN SOLUTION TEMPLATE=\n",
    "df7000 = pd.read_csv(file_location + 'mountains_above_7000m_copy.csv', encoding_errors='ignore') # 1\n",
    "df7000_norange = df7000.drop('Range', axis=1) # 2\n",
    "df_concat = pd.concat([df7000_norange,df8000]) # 3\n",
    "df_reset = df_concat.reset_index(drop=True) # 4\n",
    "missing_feet_series = df_reset[\"Feet\"].isnull() # 5\n",
    "df_reset[\"Feet\"] = df_reset[\"Feet\"].mask(missing_feet_series, df_reset[\"Metres\"]*3.28084) # 6\n",
    "###END SOLUTION"
   ]
  },
  {
   "cell_type": "code",
   "execution_count": null,
   "metadata": {
    "collapsed": true,
    "nbgrader": {
     "grade": true,
     "grade_id": "Q6.5.2",
     "locked": true,
     "points": "1",
     "solution": false
    }
   },
   "outputs": [],
   "source": [
    "###BEGIN HIDDEN TESTS\n",
    "df_sol = pd.read_csv(file_location + 'tallest_mountains.csv')\n",
    "\n",
    "df7000_sol = pd.read_csv(file_location + 'mountains_above_7000m_copy.csv', encoding_errors='ignore') # 1\n",
    "df7000_norange_sol = df7000_sol.drop('Range', axis=1) # 2\n",
    "df_concat_sol = pd.concat([df7000_norange_sol,df_sol]) # 3\n",
    "df_reset_sol = df_concat_sol.reset_index(drop=True) # 4\n",
    "missing_feet_series_sol = df_reset_sol[\"Feet\"].isnull() # 5\n",
    "with_feet_series_sol = df_reset_sol[\"Feet\"].mask(missing_feet_series_sol, df_reset_sol[\"Metres\"]*3.28084) # 6\n",
    "df_reset_sol[\"Feet\"] = with_feet_series_sol\n",
    "\n",
    "or_df7000_sol = pd.read_csv(file_location + 'mountains_above_7000m_copy.csv', encoding_errors='ignore') # 1\n",
    "or_df7000_norange_sol = or_df7000_sol.drop('Range', axis=1) # 2\n",
    "or_df_concat_sol = pd.concat([df_sol,or_df7000_norange_sol]) # 3\n",
    "or_df_reset_sol = or_df_concat_sol.reset_index(drop=True) # 4\n",
    "or_missing_feet_series_sol = or_df_reset_sol[\"Feet\"].isnull() # 5\n",
    "or_with_feet_series_sol = or_df_reset_sol[\"Feet\"].mask(or_missing_feet_series_sol, or_df_reset_sol[\"Metres\"]*3.28084) # 6\n",
    "or_df_reset_sol[\"Feet\"] = or_with_feet_series_sol\n",
    "\n",
    "assert df_reset_sol.equals(df_reset) or or_df_reset_sol.equals(df_reset), '6.5.2 - Incorrect answer'\n",
    "###END HIDDEN TESTS"
   ]
  },
  {
   "attachments": {},
   "cell_type": "markdown",
   "metadata": {
    "nbgrader": {
     "grade": false,
     "locked": true,
     "solution": false
    }
   },
   "source": [
    "## (Searching) Exercise 6.5.3\n",
    "\n",
    "Now that our geologist friend has all this information, he wants to know how many of these mountains are claimed by China. Can you help him out? <i><br><br>Hint: you need to find out which elements in the appropriate column contains the string 'China'."
   ]
  },
  {
   "cell_type": "code",
   "execution_count": null,
   "metadata": {
    "collapsed": true
   },
   "outputs": [],
   "source": [
    "''' write your code here, do not change any variable name '''\n",
    "\n",
    "# you only need one line of code\n",
    "china_mountains = ...\n",
    "\n",
    "###BEGIN SOLUTION TEMPLATE=\n",
    "china_mountains = df_reset[\"Location and Notes\"].str.contains(\"China\", case=True).sum()\n",
    "###END SOLUTION\n",
    "\n",
    "print(china_mountains)"
   ]
  },
  {
   "cell_type": "code",
   "execution_count": null,
   "metadata": {
    "collapsed": true,
    "nbgrader": {
     "grade": true,
     "grade_id": "Q6.5.3",
     "locked": true,
     "points": "1",
     "solution": false
    }
   },
   "outputs": [],
   "source": [
    "###BEGIN HIDDEN TESTS\n",
    "df_sol = pd.read_csv(file_location + 'tallest_mountains.csv')\n",
    "\n",
    "df7000_sol = pd.read_csv(file_location + 'mountains_above_7000m_copy.csv', encoding_errors='ignore') # 1\n",
    "df7000_norange_sol = df7000_sol.drop('Range', axis=1) # 2\n",
    "df_concat_sol = pd.concat([df7000_norange_sol,df_sol]) # 3\n",
    "df_reset_sol = df_concat_sol.reset_index(drop=True) # 4\n",
    "missing_feet_series_sol = df_reset_sol[\"Feet\"].isnull() # 5\n",
    "with_feet_series_sol = df_reset_sol[\"Feet\"].mask(missing_feet_series_sol, df_reset_sol[\"Metres\"]*3.28084) # 6\n",
    "df_reset_sol[\"Feet\"] = with_feet_series_sol\n",
    "\n",
    "china_mountains_sol = df_reset_sol[\"Location and Notes\"].str.contains(\"China\", case=True).sum()\n",
    "assert china_mountains_sol == china_mountains, '6.5.3 - Incorrect answer'\n",
    "###END HIDDEN TESTS"
   ]
  }
 ],
 "metadata": {
  "colab": {
   "collapsed_sections": [],
   "name": "Copy of Python_2_3.ipynb",
   "provenance": []
  },
  "kernelspec": {
   "display_name": "Python 3 [3.7]",
   "language": "python",
   "name": "python3"
  },
  "language_info": {
   "codemirror_mode": {
    "name": "ipython",
    "version": 3
   },
   "file_extension": ".py",
   "mimetype": "text/x-python",
   "name": "python",
   "nbconvert_exporter": "python",
   "pygments_lexer": "ipython3",
   "version": "3.8.13"
  },
  "vscode": {
   "interpreter": {
    "hash": "1fe2f2b718b1108b9c4176932db8a0ead471245140baaa21ea96a4066683e6b2"
   }
  }
 },
 "nbformat": 4,
 "nbformat_minor": 1
}
