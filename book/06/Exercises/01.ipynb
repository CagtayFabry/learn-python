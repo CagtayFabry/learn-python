{
 "cells": [
  {
   "attachments": {},
   "cell_type": "markdown",
   "metadata": {
    "nbgrader": {
     "grade": false,
     "locked": true,
     "solution": false
    }
   },
   "source": [
    "# Pandas Exercises\n",
    "## Exercise 6.2.1\n",
    "Finish a function, which with a <code>for</code> loop will get all types saved in series <code>my_series</code>\n"
   ]
  },
  {
   "cell_type": "code",
   "execution_count": null,
   "metadata": {
    "collapsed": true
   },
   "outputs": [],
   "source": [
    "'''write your code here'''\n",
    "\n",
    "def list_types(series):\n",
    "    series_types = \"Types inside series:\\n\"\n",
    "    for ...\n",
    "        item_type = ...\n",
    "        series_types += str(item_type) + '\\n'\n",
    "    \n",
    "    return series_types\n",
    "        \n",
    "###BEGIN SOLUTION TEMPLATE=\n",
    "def list_types(series):\n",
    "    series_types = \"Types inside series:\\n\"\n",
    "    for i in range(len(series)):\n",
    "        item_type = type(series[i])\n",
    "        series_types += str(item_type) + '\\n'\n",
    "    \n",
    "    return series_types\n",
    "###END SOLUTION\n",
    "\n",
    "print(list_types(my_series))"
   ]
  },
  {
   "cell_type": "code",
   "execution_count": null,
   "metadata": {
    "collapsed": true,
    "nbgrader": {
     "grade": true,
     "grade_id": "Q6.2.1",
     "locked": true,
     "points": "1",
     "solution": false
    }
   },
   "outputs": [],
   "source": [
    "###BEGIN HIDDEN TESTS\n",
    "def solution_6_2_1(series):\n",
    "    series_types = \"Types inside series:\\n\"\n",
    "    for i in range(len(series)):\n",
    "        item_type = type(series[i])\n",
    "        series_types += str(item_type) + '\\n'\n",
    "    \n",
    "    return series_types\n",
    "\n",
    "assert list_types(my_series) == solution_6_2_1(my_series), '6.2.1 - Incorrect answer'\n",
    "###END HIDDEN TESTS"
   ]
  },
  {
   "attachments": {},
   "cell_type": "markdown",
   "metadata": {
    "nbgrader": {
     "grade": false,
     "locked": true,
     "solution": false
    }
   },
   "source": [
    "<div style=\"text-align: justify\">Note the above exercise could have been solved without a <b><code>for</code></b> loop:</div>"
   ]
  },
  {
   "cell_type": "code",
   "execution_count": null,
   "metadata": {
    "collapsed": true,
    "nbgrader": {
     "grade": false,
     "locked": true,
     "solution": false
    }
   },
   "outputs": [],
   "source": [
    "types = my_series.apply(type)\n",
    "print(types)"
   ]
  },
  {
   "attachments": {},
   "cell_type": "markdown",
   "metadata": {
    "nbgrader": {
     "grade": false,
     "locked": true,
     "solution": false
    }
   },
   "source": [
    "## (Searching) Exercise 6.3.1\n",
    "\n",
    "Complete the code below to print the total number of <i>'NaN'</i> values in <code>df3</code>"
   ]
  },
  {
   "cell_type": "code",
   "execution_count": null,
   "metadata": {
    "collapsed": true
   },
   "outputs": [],
   "source": [
    "''' change only the ... below, do not add any other lines to this cell '''\n",
    "\n",
    "def count_nans(df):\n",
    "    nan_total = ...\n",
    "    return nan_total\n",
    "\n",
    "###BEGIN SOLUTION TEMPLATE=\n",
    "def count_nans(df):\n",
    "    nan_total = df.isnull().sum().sum()\n",
    "    return nan_total\n",
    "###END SOLUTION\n",
    "\n",
    "print(df3.head(10))\n",
    "print(f'\\ntotal amount of nans = {count_nans(df3)}')"
   ]
  },
  {
   "cell_type": "code",
   "execution_count": null,
   "metadata": {
    "collapsed": true,
    "nbgrader": {
     "grade": true,
     "grade_id": "Q6.3.1",
     "locked": true,
     "points": "1",
     "solution": false
    }
   },
   "outputs": [],
   "source": [
    "###BEGIN HIDDEN TESTS\n",
    "assert count_nans(df3) == 17, '6.3.1 - Incorrect answer'\n",
    "###END HIDDEN TESTS"
   ]
  },
  {
   "attachments": {},
   "cell_type": "markdown",
   "metadata": {},
   "source": [
    "## (Searching) Exercise 6.3.2\n",
    "\n",
    "Alter <code>df_632</code> as follows:<br>1) Change the index of the rows to be the column 'name';<br>2) drop the column 'name';<br>3) drop the columns 'test' and 'new_column';<br>4) drop the row named 'test';<br>5) add a new column '% of Earth's crust' with values 'TBD'.<br><br>For your easy reference, your final <code>df_632</code> should look like this:\n",
    "    \n",
    "![image.png](01.png)"
   ]
  },
  {
   "cell_type": "code",
   "execution_count": null,
   "metadata": {
    "collapsed": true
   },
   "outputs": [],
   "source": [
    "df_632 = df3.copy()\n",
    "# write your code here\n",
    "...\n",
    "\n",
    "###BEGIN SOLUTION TEMPLATE=\n",
    "\n",
    "df_632.index = df_632.name\n",
    "df_632.drop('name',axis=1, inplace=True)\n",
    "df_632.drop('new_column',axis=1,inplace=True)\n",
    "df_632.drop('test',inplace=True)\n",
    "df_632.drop('test',axis=1,inplace=True)\n",
    "df_632[\"% of Earth's crust\"] = 'TBD'\n",
    "###END SOLUTION\n",
    "\n",
    "\n",
    "print(df_632.head(10))"
   ]
  },
  {
   "cell_type": "code",
   "execution_count": null,
   "metadata": {
    "collapsed": true,
    "nbgrader": {
     "grade": true,
     "grade_id": "Q6.3.2",
     "locked": true,
     "points": "1",
     "solution": false
    }
   },
   "outputs": [],
   "source": [
    "###BEGIN HIDDEN TESTS\n",
    "df_sol = df3.copy()\n",
    "df_sol.index = df_sol.name\n",
    "df_sol.drop('name',axis=1, inplace=True)\n",
    "df_sol.drop('new_column',axis=1,inplace=True)\n",
    "df_sol.drop('test',inplace=True)\n",
    "df_sol.drop('test',axis=1,inplace=True)\n",
    "df_sol[\"% of Earth's crust\"] = 'TBD'\n",
    "\n",
    "assert df_sol.equals(df_632), '6.3.2 - Incorrect answer.\\\n",
    "Make sure to use inplace=True and axis=1 for removing columns'\n",
    "###END HIDDEN TESTS"
   ]
  },
  {
   "attachments": {},
   "cell_type": "markdown",
   "metadata": {
    "nbgrader": {
     "grade": false,
     "locked": true,
     "solution": false
    }
   },
   "source": [
    "## (Searching/Fixing) Exercise 6.3.3\n",
    "\n",
    "A geologist wrote a line of code to know how many of the listed minerals have a hardness greater than or equal to $3$. However, something is not correct in his code... could you maybe fix it? There is a syntax error as well as a semantic error."
   ]
  },
  {
   "cell_type": "code",
   "execution_count": null,
   "metadata": {
    "collapsed": true
   },
   "outputs": [],
   "source": [
    "def count_minerals(df, minimal_hardness):\n",
    "    amount_of_minerals = len(df(df.hardness.gt(minimal_hardness)))\n",
    "    return amount_of_minerals\n",
    "\n",
    "###BEGIN SOLUTION TEMPLATE=\n",
    "def count_minerals(df, minimal_hardness):\n",
    "    amount_of_minerals = len(df[df.hardness.ge(minimal_hardness)])\n",
    "    return amount_of_minerals                           \n",
    "###END SOLUTION            \n",
    "      \n",
    "print(df3_cleaned.head(10))\n",
    "print(f'Amount of minerals with hardness >= 3: {count_minerals(df3_cleaned, 3)}')"
   ]
  },
  {
   "cell_type": "code",
   "execution_count": null,
   "metadata": {
    "collapsed": true,
    "nbgrader": {
     "grade": true,
     "grade_id": "Q6.3.3",
     "locked": true,
     "points": "1",
     "solution": false
    }
   },
   "outputs": [],
   "source": [
    "###BEGIN HIDDEN TESTS\n",
    "assert count_minerals(df3_cleaned, 4) == 4, '6.3.3 - Incorrect answer'\n",
    "###END HIDDEN TESTS"
   ]
  },
  {
   "attachments": {},
   "cell_type": "markdown",
   "metadata": {
    "nbgrader": {
     "grade": false,
     "locked": true,
     "solution": false
    }
   },
   "source": [
    "The above exercise might look like a silly one, but take some time to analyze it carefully... what is happening there? Break down each part of that line of code to understand it properly."
   ]
  },
  {
   "attachments": {},
   "cell_type": "markdown",
   "metadata": {
    "nbgrader": {
     "grade": false,
     "locked": true,
     "solution": false
    }
   },
   "source": [
    "## (Searching) Exercise 6.5.1\n",
    "\n",
    "A geologist is interested in the tallest mountain chains around Earth. For that, he created the <code>tallest_mountains.csv</code> table, containing information on all mountains above $8000$ meters. Your task is to do the following $5$ assignments.<br><br>1) Read the <code>tallest_mountains.csv</code> file.<br>2) What are the names of the columns?<br>3) What is the height of the tallest mountain?<br>4) What is the row number (or index) of this mountain?<br>5) What is the name of the tallest mountain in the dataset?<br><br><b>Hard-coded answers won't be accepted. Use <code>pandas</code> functions to answer the questions.</b><br><br><i>Source for this and next exercises: <a href=\"https://en.wikipedia.org/wiki/List_of_mountains_by_elevation\">Wikipedia"
   ]
  },
  {
   "cell_type": "code",
   "execution_count": null,
   "metadata": {
    "collapsed": true
   },
   "outputs": [],
   "source": [
    "''' write your code here, do not change any variable name '''\n",
    "\n",
    "df8000 = ... # 1) read the file\n",
    "cols = ... # 2) name of columns\n",
    "max_height = ... # 3) height of tallest mountain\n",
    "indxmax = ... # 4) index of the row containing 'max_height'\n",
    "tallest_mountain = ... # 5) name of the tallest mountain\n",
    "\n",
    "###BEGIN SOLUTION TEMPLATE=\n",
    "df8000 = pd.read_csv(path + 'tallest_mountains.csv')\n",
    "cols = df8000.columns\n",
    "max_height = df8000['Metres'].max() \n",
    "indxmax = df8000['Metres'].idxmax() \n",
    "tallest_mountain = df8000.loc[indxmax,'Mountain']\n",
    "###END SOLUTION\n",
    "\n",
    "print(df8000.head())"
   ]
  },
  {
   "cell_type": "code",
   "execution_count": null,
   "metadata": {
    "collapsed": true,
    "nbgrader": {
     "grade": true,
     "grade_id": "Q6.5.1",
     "locked": true,
     "points": "1",
     "solution": false
    }
   },
   "outputs": [],
   "source": [
    "###BEGIN HIDDEN TESTS\n",
    "df_sol = pd.read_csv(path + 'tallest_mountains.csv')\n",
    "cols_sol = df_sol.columns\n",
    "max_height_sol = df_sol['Metres'].max() \n",
    "indxmax_sol = df_sol['Metres'].idxmax() \n",
    "tallest_mountain_sol = df_sol.loc[indxmax_sol,'Mountain']\n",
    "\n",
    "assert df_sol.equals(df8000) and cols_sol.equals(cols) and max_height_sol == max_height and \\\n",
    "        indxmax_sol == indxmax and tallest_mountain_sol == tallest_mountain, \\\n",
    "    '6.5.1 - Incorrect answer, did you use idxmax for the 4th problem?'\n",
    "###END HIDDEN TESTS"
   ]
  },
  {
   "attachments": {},
   "cell_type": "markdown",
   "metadata": {
    "nbgrader": {
     "grade": false,
     "locked": true,
     "solution": false
    }
   },
   "source": [
    "## (Searching) Exercise 6.5.2\n",
    "\n",
    "Now, our geologist friend got another table with all mountains above $7000$ meters, it's in the <code>mountains_above_7000m_copy.csv</code> file. Your task is to do the following $6$ assignments.<br><br>1) Read the <code>mountains_above_7000m_copy.csv</code> file.<br>2) Remove the column describing the mountain range they belong.<br>3) Append <code>df8000</code> to this.<br>4) Fix the row-indexing issue.<br>5) Create a <code>Series</code> indicating which entries of 'Feet' are missing.<br><i>Hint: Use the <code>.isnull()</code> function</i><br>6) Add the values that are missing in the 'Feet' column, use $1$ mtr = $3.28084$ feet.<br><i>Hint2: Use the <code>.mask()</code> function, more info <a href=\"https://pandas.pydata.org/docs/reference/api/pandas.DataFrame.mask.html\">here</a>, or the <code>.fillna()</code> function."
   ]
  },
  {
   "cell_type": "code",
   "execution_count": null,
   "metadata": {
    "collapsed": true
   },
   "outputs": [],
   "source": [
    "''' write your code here, do not change any variable name '''\n",
    "\n",
    "df7000 = ... # 1\n",
    "df7000_norange = ... # 2\n",
    "df_concat = ... # 3\n",
    "\n",
    "#check what you have now\n",
    "print(df_concat)"
   ]
  },
  {
   "cell_type": "code",
   "execution_count": null,
   "metadata": {
    "collapsed": true
   },
   "outputs": [],
   "source": [
    "''' write the rest of your code here, do not change any variable name '''\n",
    "\n",
    "df_reset = ... # 4\n",
    "missing_feet_series = ... # 5\n",
    "df_reset[\"Feet\"] = ... # 6\n",
    "print(df_reset) \n",
    "\n",
    "###BEGIN SOLUTION TEMPLATE=\n",
    "df7000 = pd.read_csv(path + 'mountains_above_7000m_copy.csv', encoding_errors='ignore') # 1\n",
    "df7000_norange = df7000.drop('Range', axis=1) # 2\n",
    "df_concat = pd.concat([df7000_norange,df8000]) # 3\n",
    "df_reset = df_concat.reset_index(drop=True) # 4\n",
    "missing_feet_series = df_reset[\"Feet\"].isnull() # 5\n",
    "df_reset[\"Feet\"] = df_reset[\"Feet\"].mask(missing_feet_series, df_reset[\"Metres\"]*3.28084) # 6\n",
    "###END SOLUTION"
   ]
  },
  {
   "cell_type": "code",
   "execution_count": null,
   "metadata": {
    "collapsed": true,
    "nbgrader": {
     "grade": true,
     "grade_id": "Q6.5.2",
     "locked": true,
     "points": "1",
     "solution": false
    }
   },
   "outputs": [],
   "source": [
    "###BEGIN HIDDEN TESTS\n",
    "df_sol = pd.read_csv(path + 'tallest_mountains.csv')\n",
    "\n",
    "df7000_sol = pd.read_csv(path + 'mountains_above_7000m_copy.csv', encoding_errors='ignore') # 1\n",
    "df7000_norange_sol = df7000_sol.drop('Range', axis=1) # 2\n",
    "df_concat_sol = pd.concat([df7000_norange_sol,df_sol]) # 3\n",
    "df_reset_sol = df_concat_sol.reset_index(drop=True) # 4\n",
    "missing_feet_series_sol = df_reset_sol[\"Feet\"].isnull() # 5\n",
    "with_feet_series_sol = df_reset_sol[\"Feet\"].mask(missing_feet_series_sol, df_reset_sol[\"Metres\"]*3.28084) # 6\n",
    "df_reset_sol[\"Feet\"] = with_feet_series_sol\n",
    "\n",
    "or_df7000_sol = pd.read_csv(path + 'mountains_above_7000m_copy.csv', encoding_errors='ignore') # 1\n",
    "or_df7000_norange_sol = or_df7000_sol.drop('Range', axis=1) # 2\n",
    "or_df_concat_sol = pd.concat([df_sol,or_df7000_norange_sol]) # 3\n",
    "or_df_reset_sol = or_df_concat_sol.reset_index(drop=True) # 4\n",
    "or_missing_feet_series_sol = or_df_reset_sol[\"Feet\"].isnull() # 5\n",
    "or_with_feet_series_sol = or_df_reset_sol[\"Feet\"].mask(or_missing_feet_series_sol, or_df_reset_sol[\"Metres\"]*3.28084) # 6\n",
    "or_df_reset_sol[\"Feet\"] = or_with_feet_series_sol\n",
    "\n",
    "assert df_reset_sol.equals(df_reset) or or_df_reset_sol.equals(df_reset), '6.5.2 - Incorrect answer'\n",
    "###END HIDDEN TESTS"
   ]
  },
  {
   "attachments": {},
   "cell_type": "markdown",
   "metadata": {
    "nbgrader": {
     "grade": false,
     "locked": true,
     "solution": false
    }
   },
   "source": [
    "## (Searching) Exercise 6.5.3\n",
    "\n",
    "Now that our geologist friend has all this information, he wants to know how many of these mountains are claimed by China. Can you help him out? <i><br><br>Hint: you need to find out which elements in the appropriate column contains the string 'China'."
   ]
  },
  {
   "cell_type": "code",
   "execution_count": null,
   "metadata": {
    "collapsed": true
   },
   "outputs": [],
   "source": [
    "''' write your code here, do not change any variable name '''\n",
    "\n",
    "# you only need one line of code\n",
    "china_mountains = ...\n",
    "\n",
    "###BEGIN SOLUTION TEMPLATE=\n",
    "china_mountains = df_reset[\"Location and Notes\"].str.contains(\"China\", case=True).sum()\n",
    "###END SOLUTION\n",
    "\n",
    "print(china_mountains)"
   ]
  },
  {
   "cell_type": "code",
   "execution_count": null,
   "metadata": {
    "collapsed": true,
    "nbgrader": {
     "grade": true,
     "grade_id": "Q6.5.3",
     "locked": true,
     "points": "1",
     "solution": false
    }
   },
   "outputs": [],
   "source": [
    "###BEGIN HIDDEN TESTS\n",
    "df_sol = pd.read_csv(path + 'tallest_mountains.csv')\n",
    "\n",
    "df7000_sol = pd.read_csv(path + 'mountains_above_7000m_copy.csv', encoding_errors='ignore') # 1\n",
    "df7000_norange_sol = df7000_sol.drop('Range', axis=1) # 2\n",
    "df_concat_sol = pd.concat([df7000_norange_sol,df_sol]) # 3\n",
    "df_reset_sol = df_concat_sol.reset_index(drop=True) # 4\n",
    "missing_feet_series_sol = df_reset_sol[\"Feet\"].isnull() # 5\n",
    "with_feet_series_sol = df_reset_sol[\"Feet\"].mask(missing_feet_series_sol, df_reset_sol[\"Metres\"]*3.28084) # 6\n",
    "df_reset_sol[\"Feet\"] = with_feet_series_sol\n",
    "\n",
    "china_mountains_sol = df_reset_sol[\"Location and Notes\"].str.contains(\"China\", case=True).sum()\n",
    "assert china_mountains_sol == china_mountains, '6.5.3 - Incorrect answer'\n",
    "###END HIDDEN TESTS"
   ]
  }
 ],
 "metadata": {
  "colab": {
   "collapsed_sections": [],
   "name": "Copy of Python_2_3.ipynb",
   "provenance": []
  },
  "kernelspec": {
   "display_name": "Python 3 [3.7]",
   "language": "python",
   "name": "python3"
  },
  "language_info": {
   "codemirror_mode": {
    "name": "ipython",
    "version": 3
   },
   "file_extension": ".py",
   "mimetype": "text/x-python",
   "name": "python",
   "nbconvert_exporter": "python",
   "pygments_lexer": "ipython3",
   "version": "3.8.13"
  },
  "vscode": {
   "interpreter": {
    "hash": "1fe2f2b718b1108b9c4176932db8a0ead471245140baaa21ea96a4066683e6b2"
   }
  }
 },
 "nbformat": 4,
 "nbformat_minor": 1
}
