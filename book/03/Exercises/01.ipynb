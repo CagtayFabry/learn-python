{
 "cells": [
  {
   "attachments": {},
   "cell_type": "markdown",
   "metadata": {
    "nbgrader": {
     "grade": false,
     "locked": true,
     "solution": false
    }
   },
   "source": [
    "<figure>\n",
    "  <IMG SRC=\"https://raw.githubusercontent.com/mbakker7/exploratory_computing_with_python/master/tudelft_logo.png\" WIDTH=250 ALIGN=\"right\">\n",
    "</figure>\n",
    "\n",
    "\n",
    "# Advanced strings and functions. Files and debugging Exercises.\n",
    "\n",
    "First click the {fa}`rocket` --> {guilabel}`Live Code` button above on this page to bring interactivity."
   ]
  },
  {
   "attachments": {},
   "cell_type": "markdown",
   "metadata": {
    "nbgrader": {
     "grade": false,
     "locked": true,
     "solution": false
    }
   },
   "source": [
    "## Exercise 3.1.1\n",
    "\n",
    "Use the <code>print()</code> function and an f-string to make a statement about some car using all variables stored in the <code>car_info</code> dictionary.\n"
   ]
  },
  {
   "attachments": {},
   "cell_type": "markdown",
   "metadata": {},
   "source": [
    "_Type your code here where the three (*`...`*) dots are placed. Do not change the name of the variables._\n"
   ]
  },
  {
   "cell_type": "code",
   "execution_count": 79,
   "metadata": {
    "collapsed": true
   },
   "outputs": [],
   "source": [
    "car_info = {\n",
    "    'top_speed' : '229', #km/h\n",
    "    'type' : 'Opel Astra'\n",
    "}\n",
    "\n",
    "message = ...\n"
   ]
  },
  {
   "attachments": {},
   "cell_type": "markdown",
   "metadata": {},
   "source": [
    "````{admonition} check your answer!\n",
    "Run the cell bellow to check if you got the correct answer\n",
    "````"
   ]
  },
  {
   "cell_type": "code",
   "execution_count": 23,
   "metadata": {},
   "outputs": [
    {
     "name": "stdout",
     "output_type": "stream",
     "text": [
      "Incorrect answer :(\n"
     ]
    }
   ],
   "source": [
    "notebook_3_check_answer(0)"
   ]
  },
  {
   "attachments": {},
   "cell_type": "markdown",
   "metadata": {
    "nbgrader": {
     "grade": false,
     "locked": true,
     "solution": false
    }
   },
   "source": [
    "## Exercise 3.2.1\n",
    "\n",
    "Write a lambda function that converts a number from degrees to radians.\n",
    "\n",
    "_Type your code here where the three (*`...`*) dots are placed. Do not change the name of the variables._"
   ]
  },
  {
   "cell_type": "code",
   "execution_count": 35,
   "metadata": {
    "collapsed": true
   },
   "outputs": [
    {
     "name": "stdout",
     "output_type": "stream",
     "text": [
      "An angle of 20 Degrees is equal to 0.349 radians\n"
     ]
    }
   ],
   "source": [
    "from math import pi \n",
    "\n",
    "DegToRad = ...\n",
    "\n",
    "\n",
    "angle = 20 # Degrees\n",
    "print(f\"An angle of {angle} Degrees is equal to {DegToRad(angle):.3f} radians\")"
   ]
  },
  {
   "attachments": {},
   "cell_type": "markdown",
   "metadata": {},
   "source": [
    "````{admonition} check your answer!\n",
    "Run the cell bellow to check if you got the correct answer\n",
    "````"
   ]
  },
  {
   "cell_type": "code",
   "execution_count": null,
   "metadata": {},
   "outputs": [],
   "source": [
    "notebook_3_check_answer(1)"
   ]
  },
  {
   "attachments": {},
   "cell_type": "markdown",
   "metadata": {
    "nbgrader": {
     "grade": false,
     "locked": true,
     "solution": false
    }
   },
   "source": [
    "## Exercise 3.2.2\n",
    "\n",
    "Write a lambda function that takes four inputs: $(x_1, y_1, x_2, y_2)$ and computes the <a href=\"https://en.wikipedia.org/wiki/Euclidean_distance\">Euclidian distance</a> between point 1 $(x_1,y_1)$ and point 2 $(x_2,y_2)$.\n",
    "\n",
    "_Type your code here where the three (*`...`*) dots are placed. Do not change the name of the variables._\n"
   ]
  },
  {
   "cell_type": "code",
   "execution_count": 87,
   "metadata": {
    "collapsed": true
   },
   "outputs": [
    {
     "name": "stdout",
     "output_type": "stream",
     "text": [
      "Distance between points (1, 1) and (4, 4) is 4.243\n"
     ]
    }
   ],
   "source": [
    "from math import sqrt\n",
    "\n",
    "Distance = ...\n",
    "\n",
    "\n",
    "x1, y1 = 1, 1\n",
    "x2, y2 = 4, 4\n",
    "\n",
    "print(f\"Distance between points ({x1}, {y1}) and ({x2}, {y2}) is {Distance(x1, y1, x2, y2):.3f}\")"
   ]
  },
  {
   "attachments": {},
   "cell_type": "markdown",
   "metadata": {},
   "source": [
    "````{admonition} check your answer!\n",
    "Run the cell bellow to check if you got the correct answer\n",
    "````"
   ]
  },
  {
   "cell_type": "code",
   "execution_count": null,
   "metadata": {},
   "outputs": [],
   "source": [
    "notebook_3_check_answer(2)"
   ]
  },
  {
   "attachments": {},
   "cell_type": "markdown",
   "metadata": {
    "nbgrader": {
     "grade": false,
     "locked": true,
     "solution": false
    }
   },
   "source": [
    "## (Fixing) Exercise 3.4.1\n",
    "\n",
    "Fix the syntax errors so it prints \"AES\" without removing the variable that holds it. You'll need to fix 2 errors."
   ]
  },
  {
   "cell_type": "code",
   "execution_count": null,
   "metadata": {
    "collapsed": true
   },
   "outputs": [],
   "source": [
    "def get_abbreviation():\n",
    "    my abbreviation = \"AES\"\n",
    "     return my_abbreviation\n",
    "        \n",
    "print(get_abbreviation())"
   ]
  },
  {
   "attachments": {},
   "cell_type": "markdown",
   "metadata": {},
   "source": [
    "````{admonition} check your answer!\n",
    "Run the cell bellow to check if you got the correct answer\n",
    "````"
   ]
  },
  {
   "cell_type": "code",
   "execution_count": null,
   "metadata": {
    "collapsed": true,
    "nbgrader": {
     "grade": true,
     "grade_id": "Q3.4.1",
     "locked": true,
     "points": "1",
     "solution": false
    }
   },
   "outputs": [],
   "source": [
    "notebook_3_check_answer(3)"
   ]
  },
  {
   "attachments": {},
   "cell_type": "markdown",
   "metadata": {
    "nbgrader": {
     "grade": false,
     "locked": true,
     "solution": false
    }
   },
   "source": [
    "## (Fixing) Exercise 3.4.2\n",
    "\n",
    "Solve the runtime error so all values of $B$ are printed. The output after running <code>create_string_from_lists()</code> should be the following:<br>\n",
    "<code>\n",
    "A[0] = 2\n",
    "B[0] = 5\n",
    "A[1] = 3\n",
    "B[1] = 6\n",
    "A[2] = 4\n",
    "B[2] = 7\n",
    "B[3] = 8\n",
    "</code>"
   ]
  },
  {
   "cell_type": "code",
   "execution_count": null,
   "metadata": {
    "collapsed": true
   },
   "outputs": [],
   "source": [
    "def create_string_from_lists():\n",
    "    s = \"\"\n",
    "    \n",
    "    A = [2, 3, 4]\n",
    "    B = [5, 6, 7, 8]\n",
    "    for i in range(4):\n",
    "        s += f\"A[{i}] = {A[i]}\\n\"\n",
    "        s += f\"B[{i}] = {B[i]}\\n\"\n",
    "    print(s)\n",
    "\n",
    "\n",
    "create_string_from_lists()"
   ]
  },
  {
   "attachments": {},
   "cell_type": "markdown",
   "metadata": {},
   "source": [
    "````{admonition} check your answer!\n",
    "Run the cell bellow to check if you got the correct answer\n",
    "````"
   ]
  },
  {
   "cell_type": "code",
   "execution_count": null,
   "metadata": {
    "collapsed": true,
    "nbgrader": {
     "grade": true,
     "grade_id": "Q3.4.2",
     "locked": true,
     "points": "1",
     "solution": false
    }
   },
   "outputs": [],
   "source": [
    "notebook_3_check_answer(4)"
   ]
  },
  {
   "attachments": {},
   "cell_type": "markdown",
   "metadata": {
    "nbgrader": {
     "grade": false,
     "locked": true,
     "solution": false
    }
   },
   "source": [
    "## (Fixing) Exercise 3.4.3\n",
    "\n",
    "Find the semantic error in this function:"
   ]
  },
  {
   "cell_type": "code",
   "execution_count": null,
   "metadata": {
    "collapsed": true
   },
   "outputs": [],
   "source": [
    "def factorial(x):\n",
    "    \"returns the factorial of x\"\n",
    "    if x == 0:\n",
    "        return 1\n",
    "    else: \n",
    "        return x ** factorial(x-1)\n",
    "\n",
    "factorial(4)"
   ]
  },
  {
   "attachments": {},
   "cell_type": "markdown",
   "metadata": {},
   "source": [
    "````{admonition} check your answer!\n",
    "Run the cell bellow to check if you got the correct answer\n",
    "````"
   ]
  },
  {
   "cell_type": "code",
   "execution_count": null,
   "metadata": {
    "collapsed": true,
    "nbgrader": {
     "grade": true,
     "grade_id": "Q3.4.3",
     "locked": true,
     "points": "1",
     "solution": false
    }
   },
   "outputs": [],
   "source": [
    "notebook_3_check_answer(5)"
   ]
  },
  {
   "cell_type": "code",
   "execution_count": null,
   "metadata": {
    "tags": [
     "thebe-init",
     "hide-input"
    ]
   },
   "outputs": [],
   "source": [
    "from math import pi \n",
    "from math import sqrt\n",
    "\n",
    "def notebook_3_check_answer(question_number):\n",
    "\n",
    "    if question_number == 0:\n",
    "        try: \n",
    "            assert car_info[\n",
    "                'top_speed'] in message and car_info[\n",
    "                    'type'] in message, 'Incorrect answer.'\n",
    "            print('Correct answer :D')\n",
    "        except AssertionError:\n",
    "            print('Incorrect answer :(')\n",
    "\n",
    "    elif question_number == 1:\n",
    "        try: \n",
    "            assert type(\n",
    "                DegToRad) == type(\n",
    "                lambda x:x) and abs(\n",
    "                DegToRad(\n",
    "                angle) - angle*pi/180) <= 1e-6, 'Incorrect answer'\n",
    "            print('Correct answer :D')\n",
    "        except AssertionError:\n",
    "            print('Incorrect answer :(')\n",
    "\n",
    "    elif question_number == 2:\n",
    "        try: \n",
    "            assert abs(\n",
    "                Distance(\n",
    "                1, 1, 3, 3) - 2 * sqrt(\n",
    "                2)) <= 1e-6, '3.2.2 - Incorrect answer'\n",
    "            print('Correct answer :D')\n",
    "        except AssertionError:\n",
    "            print('Incorrect answer :(')\n",
    "    \n",
    "    elif question_number == 3:\n",
    "        try: \n",
    "            assert get_abbreviation(   \n",
    "            ) == \"AES\", '3.4.1 - Incorrect answer'\n",
    "            print('Correct answer :D')\n",
    "        except AssertionError:\n",
    "            print('Incorrect answer :(')\n",
    "\n",
    "    elif question_number == 4:\n",
    "        try: \n",
    "            assert \"B[3] = 8\" in create_string_from_lists(\n",
    "            ), '3.4.2 - Incorrect answer'\n",
    "            print('Correct answer :D')\n",
    "        except AssertionError:\n",
    "            print('Incorrect answer :(')\n",
    "\n",
    "    elif question_number == 5:\n",
    "        try: \n",
    "            assert factorial(\n",
    "                5) == 120, '3.4.3 - Incorrect answer'\n",
    "            print('Correct answer :D')\n",
    "        except AssertionError:\n",
    "            print('Incorrect answer :(')    "
   ]
  }
 ],
 "metadata": {
  "kernelspec": {
   "display_name": "base",
   "language": "python",
   "name": "python3"
  },
  "language_info": {
   "codemirror_mode": {
    "name": "ipython",
    "version": 3
   },
   "file_extension": ".py",
   "mimetype": "text/x-python",
   "name": "python",
   "nbconvert_exporter": "python",
   "pygments_lexer": "ipython3",
   "version": "3.8.13"
  },
  "latex_envs": {
   "LaTeX_envs_menu_present": true,
   "autoclose": false,
   "autocomplete": true,
   "bibliofile": "biblio.bib",
   "cite_by": "apalike",
   "current_citInitial": 1,
   "eqLabelWithNumbers": true,
   "eqNumInitial": 1,
   "hotkeys": {
    "equation": "Ctrl-E",
    "itemize": "Ctrl-I"
   },
   "labels_anchors": false,
   "latex_user_defs": false,
   "report_style_numbering": false,
   "user_envs_cfg": false
  }
 },
 "nbformat": 4,
 "nbformat_minor": 2
}
